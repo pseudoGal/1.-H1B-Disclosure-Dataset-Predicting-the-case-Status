{
 "cells": [
  {
   "cell_type": "code",
   "execution_count": 1,
   "metadata": {},
   "outputs": [
    {
     "data": {
      "text/html": [
       "<script type=\"text/javascript\">window.PlotlyConfig = {MathJaxConfig: 'local'};</script><script type=\"text/javascript\">if (window.MathJax) {MathJax.Hub.Config({SVG: {font: \"STIX-Web\"}});}</script><script>requirejs.config({paths: { 'plotly': ['https://cdn.plot.ly/plotly-latest.min']},});if(!window._Plotly) {require(['plotly'],function(plotly) {window._Plotly=plotly;});}</script>"
      ],
      "text/vnd.plotly.v1+html": [
       "<script type=\"text/javascript\">window.PlotlyConfig = {MathJaxConfig: 'local'};</script><script type=\"text/javascript\">if (window.MathJax) {MathJax.Hub.Config({SVG: {font: \"STIX-Web\"}});}</script><script>requirejs.config({paths: { 'plotly': ['https://cdn.plot.ly/plotly-latest.min']},});if(!window._Plotly) {require(['plotly'],function(plotly) {window._Plotly=plotly;});}</script>"
      ]
     },
     "metadata": {},
     "output_type": "display_data"
    }
   ],
   "source": [
    "import pandas as pd\n",
    "import numpy as np\n",
    "import datetime\n",
    "import seaborn as sns\n",
    "import matplotlib.pyplot as plt\n",
    "%matplotlib inline\n",
    "import plotly.plotly as py\n",
    "from plotly.offline import init_notebook_mode, iplot\n",
    "import plotly.graph_objs as go\n",
    "init_notebook_mode(connected=True)\n",
    "from plotly import tools\n",
    "import warnings\n",
    "warnings.filterwarnings(\"ignore\")"
   ]
  },
  {
   "cell_type": "code",
   "execution_count": 2,
   "metadata": {
    "collapsed": true
   },
   "outputs": [],
   "source": [
    "df = pd.read_csv('H-1B_Disclosure_Data_FY17.csv')"
   ]
  },
  {
   "cell_type": "code",
   "execution_count": 3,
   "metadata": {},
   "outputs": [
    {
     "data": {
      "text/html": [
       "<div>\n",
       "<style scoped>\n",
       "    .dataframe tbody tr th:only-of-type {\n",
       "        vertical-align: middle;\n",
       "    }\n",
       "\n",
       "    .dataframe tbody tr th {\n",
       "        vertical-align: top;\n",
       "    }\n",
       "\n",
       "    .dataframe thead th {\n",
       "        text-align: right;\n",
       "    }\n",
       "</style>\n",
       "<table border=\"1\" class=\"dataframe\">\n",
       "  <thead>\n",
       "    <tr style=\"text-align: right;\">\n",
       "      <th></th>\n",
       "      <th>Unnamed: 0</th>\n",
       "      <th>CASE_NUMBER</th>\n",
       "      <th>CASE_STATUS</th>\n",
       "      <th>CASE_SUBMITTED</th>\n",
       "      <th>DECISION_DATE</th>\n",
       "      <th>VISA_CLASS</th>\n",
       "      <th>EMPLOYMENT_START_DATE</th>\n",
       "      <th>EMPLOYMENT_END_DATE</th>\n",
       "      <th>EMPLOYER_NAME</th>\n",
       "      <th>EMPLOYER_BUSINESS_DBA</th>\n",
       "      <th>...</th>\n",
       "      <th>H1B_DEPENDENT</th>\n",
       "      <th>WILLFUL_VIOLATOR</th>\n",
       "      <th>SUPPORT_H1B</th>\n",
       "      <th>LABOR_CON_AGREE</th>\n",
       "      <th>PUBLIC_DISCLOSURE_LOCATION</th>\n",
       "      <th>WORKSITE_CITY</th>\n",
       "      <th>WORKSITE_COUNTY</th>\n",
       "      <th>WORKSITE_STATE</th>\n",
       "      <th>WORKSITE_POSTAL_CODE</th>\n",
       "      <th>ORIGINAL_CERT_DATE</th>\n",
       "    </tr>\n",
       "  </thead>\n",
       "  <tbody>\n",
       "    <tr>\n",
       "      <th>0</th>\n",
       "      <td>0</td>\n",
       "      <td>I-200-16055-173457</td>\n",
       "      <td>CERTIFIED-WITHDRAWN</td>\n",
       "      <td>2016-02-24</td>\n",
       "      <td>2016-10-01</td>\n",
       "      <td>H-1B</td>\n",
       "      <td>2016-08-10</td>\n",
       "      <td>2019-08-10</td>\n",
       "      <td>DISCOVER PRODUCTS INC.</td>\n",
       "      <td>NaN</td>\n",
       "      <td>...</td>\n",
       "      <td>N</td>\n",
       "      <td>N</td>\n",
       "      <td>NaN</td>\n",
       "      <td>Y</td>\n",
       "      <td>NaN</td>\n",
       "      <td>RIVERWOODS</td>\n",
       "      <td>LAKE</td>\n",
       "      <td>IL</td>\n",
       "      <td>60015</td>\n",
       "      <td>2016-03-01</td>\n",
       "    </tr>\n",
       "    <tr>\n",
       "      <th>1</th>\n",
       "      <td>1</td>\n",
       "      <td>I-200-16064-557834</td>\n",
       "      <td>CERTIFIED-WITHDRAWN</td>\n",
       "      <td>2016-03-04</td>\n",
       "      <td>2016-10-01</td>\n",
       "      <td>H-1B</td>\n",
       "      <td>2016-08-16</td>\n",
       "      <td>2019-08-16</td>\n",
       "      <td>DFS SERVICES LLC</td>\n",
       "      <td>NaN</td>\n",
       "      <td>...</td>\n",
       "      <td>N</td>\n",
       "      <td>N</td>\n",
       "      <td>NaN</td>\n",
       "      <td>Y</td>\n",
       "      <td>NaN</td>\n",
       "      <td>RIVERWOODS</td>\n",
       "      <td>LAKE</td>\n",
       "      <td>IL</td>\n",
       "      <td>60015</td>\n",
       "      <td>2016-03-08</td>\n",
       "    </tr>\n",
       "    <tr>\n",
       "      <th>2</th>\n",
       "      <td>2</td>\n",
       "      <td>I-200-16063-996093</td>\n",
       "      <td>CERTIFIED-WITHDRAWN</td>\n",
       "      <td>2016-03-10</td>\n",
       "      <td>2016-10-01</td>\n",
       "      <td>H-1B</td>\n",
       "      <td>2016-09-09</td>\n",
       "      <td>2019-09-09</td>\n",
       "      <td>EASTBANC TECHNOLOGIES LLC</td>\n",
       "      <td>NaN</td>\n",
       "      <td>...</td>\n",
       "      <td>Y</td>\n",
       "      <td>N</td>\n",
       "      <td>Y</td>\n",
       "      <td>NaN</td>\n",
       "      <td>NaN</td>\n",
       "      <td>WASHINGTON</td>\n",
       "      <td>NaN</td>\n",
       "      <td>DC</td>\n",
       "      <td>20007</td>\n",
       "      <td>2016-03-16</td>\n",
       "    </tr>\n",
       "    <tr>\n",
       "      <th>3</th>\n",
       "      <td>3</td>\n",
       "      <td>I-200-16272-196340</td>\n",
       "      <td>WITHDRAWN</td>\n",
       "      <td>2016-09-28</td>\n",
       "      <td>2016-10-01</td>\n",
       "      <td>H-1B</td>\n",
       "      <td>2017-01-26</td>\n",
       "      <td>2020-01-25</td>\n",
       "      <td>INFO SERVICES LLC</td>\n",
       "      <td>NaN</td>\n",
       "      <td>...</td>\n",
       "      <td>Y</td>\n",
       "      <td>N</td>\n",
       "      <td>Y</td>\n",
       "      <td>NaN</td>\n",
       "      <td>NaN</td>\n",
       "      <td>JERSEY CITY</td>\n",
       "      <td>HUDSON</td>\n",
       "      <td>NJ</td>\n",
       "      <td>07302</td>\n",
       "      <td>NaN</td>\n",
       "    </tr>\n",
       "    <tr>\n",
       "      <th>4</th>\n",
       "      <td>4</td>\n",
       "      <td>I-200-15053-636744</td>\n",
       "      <td>CERTIFIED-WITHDRAWN</td>\n",
       "      <td>2015-02-22</td>\n",
       "      <td>2016-10-02</td>\n",
       "      <td>H-1B</td>\n",
       "      <td>2015-03-01</td>\n",
       "      <td>2018-03-01</td>\n",
       "      <td>BB&amp;T CORPORATION</td>\n",
       "      <td>NaN</td>\n",
       "      <td>...</td>\n",
       "      <td>N</td>\n",
       "      <td>N</td>\n",
       "      <td>NaN</td>\n",
       "      <td>Y</td>\n",
       "      <td>NaN</td>\n",
       "      <td>NEW YORK</td>\n",
       "      <td>NEW YORK</td>\n",
       "      <td>NY</td>\n",
       "      <td>10036</td>\n",
       "      <td>2015-02-26</td>\n",
       "    </tr>\n",
       "  </tbody>\n",
       "</table>\n",
       "<p>5 rows × 53 columns</p>\n",
       "</div>"
      ],
      "text/plain": [
       "   Unnamed: 0         CASE_NUMBER          CASE_STATUS CASE_SUBMITTED  \\\n",
       "0           0  I-200-16055-173457  CERTIFIED-WITHDRAWN     2016-02-24   \n",
       "1           1  I-200-16064-557834  CERTIFIED-WITHDRAWN     2016-03-04   \n",
       "2           2  I-200-16063-996093  CERTIFIED-WITHDRAWN     2016-03-10   \n",
       "3           3  I-200-16272-196340            WITHDRAWN     2016-09-28   \n",
       "4           4  I-200-15053-636744  CERTIFIED-WITHDRAWN     2015-02-22   \n",
       "\n",
       "  DECISION_DATE VISA_CLASS EMPLOYMENT_START_DATE EMPLOYMENT_END_DATE  \\\n",
       "0    2016-10-01       H-1B            2016-08-10          2019-08-10   \n",
       "1    2016-10-01       H-1B            2016-08-16          2019-08-16   \n",
       "2    2016-10-01       H-1B            2016-09-09          2019-09-09   \n",
       "3    2016-10-01       H-1B            2017-01-26          2020-01-25   \n",
       "4    2016-10-02       H-1B            2015-03-01          2018-03-01   \n",
       "\n",
       "               EMPLOYER_NAME EMPLOYER_BUSINESS_DBA        ...          \\\n",
       "0     DISCOVER PRODUCTS INC.                   NaN        ...           \n",
       "1           DFS SERVICES LLC                   NaN        ...           \n",
       "2  EASTBANC TECHNOLOGIES LLC                   NaN        ...           \n",
       "3          INFO SERVICES LLC                   NaN        ...           \n",
       "4           BB&T CORPORATION                   NaN        ...           \n",
       "\n",
       "  H1B_DEPENDENT WILLFUL_VIOLATOR SUPPORT_H1B LABOR_CON_AGREE  \\\n",
       "0             N                N         NaN               Y   \n",
       "1             N                N         NaN               Y   \n",
       "2             Y                N           Y             NaN   \n",
       "3             Y                N           Y             NaN   \n",
       "4             N                N         NaN               Y   \n",
       "\n",
       "  PUBLIC_DISCLOSURE_LOCATION WORKSITE_CITY WORKSITE_COUNTY WORKSITE_STATE  \\\n",
       "0                        NaN    RIVERWOODS            LAKE             IL   \n",
       "1                        NaN    RIVERWOODS            LAKE             IL   \n",
       "2                        NaN    WASHINGTON             NaN             DC   \n",
       "3                        NaN   JERSEY CITY          HUDSON             NJ   \n",
       "4                        NaN      NEW YORK        NEW YORK             NY   \n",
       "\n",
       "  WORKSITE_POSTAL_CODE ORIGINAL_CERT_DATE  \n",
       "0                60015         2016-03-01  \n",
       "1                60015         2016-03-08  \n",
       "2                20007         2016-03-16  \n",
       "3                07302                NaN  \n",
       "4                10036         2015-02-26  \n",
       "\n",
       "[5 rows x 53 columns]"
      ]
     },
     "execution_count": 3,
     "metadata": {},
     "output_type": "execute_result"
    }
   ],
   "source": [
    "df.head()"
   ]
  },
  {
   "cell_type": "code",
   "execution_count": 4,
   "metadata": {
    "collapsed": true
   },
   "outputs": [],
   "source": [
    "df = df.iloc[:,2:]"
   ]
  },
  {
   "cell_type": "code",
   "execution_count": 5,
   "metadata": {},
   "outputs": [
    {
     "data": {
      "text/html": [
       "<div>\n",
       "<style scoped>\n",
       "    .dataframe tbody tr th:only-of-type {\n",
       "        vertical-align: middle;\n",
       "    }\n",
       "\n",
       "    .dataframe tbody tr th {\n",
       "        vertical-align: top;\n",
       "    }\n",
       "\n",
       "    .dataframe thead th {\n",
       "        text-align: right;\n",
       "    }\n",
       "</style>\n",
       "<table border=\"1\" class=\"dataframe\">\n",
       "  <thead>\n",
       "    <tr style=\"text-align: right;\">\n",
       "      <th></th>\n",
       "      <th>CASE_STATUS</th>\n",
       "      <th>CASE_SUBMITTED</th>\n",
       "      <th>DECISION_DATE</th>\n",
       "      <th>VISA_CLASS</th>\n",
       "      <th>EMPLOYMENT_START_DATE</th>\n",
       "      <th>EMPLOYMENT_END_DATE</th>\n",
       "      <th>EMPLOYER_NAME</th>\n",
       "      <th>EMPLOYER_BUSINESS_DBA</th>\n",
       "      <th>EMPLOYER_ADDRESS</th>\n",
       "      <th>EMPLOYER_CITY</th>\n",
       "      <th>...</th>\n",
       "      <th>H1B_DEPENDENT</th>\n",
       "      <th>WILLFUL_VIOLATOR</th>\n",
       "      <th>SUPPORT_H1B</th>\n",
       "      <th>LABOR_CON_AGREE</th>\n",
       "      <th>PUBLIC_DISCLOSURE_LOCATION</th>\n",
       "      <th>WORKSITE_CITY</th>\n",
       "      <th>WORKSITE_COUNTY</th>\n",
       "      <th>WORKSITE_STATE</th>\n",
       "      <th>WORKSITE_POSTAL_CODE</th>\n",
       "      <th>ORIGINAL_CERT_DATE</th>\n",
       "    </tr>\n",
       "  </thead>\n",
       "  <tbody>\n",
       "    <tr>\n",
       "      <th>0</th>\n",
       "      <td>CERTIFIED-WITHDRAWN</td>\n",
       "      <td>2016-02-24</td>\n",
       "      <td>2016-10-01</td>\n",
       "      <td>H-1B</td>\n",
       "      <td>2016-08-10</td>\n",
       "      <td>2019-08-10</td>\n",
       "      <td>DISCOVER PRODUCTS INC.</td>\n",
       "      <td>NaN</td>\n",
       "      <td>2500 LAKE COOK ROAD</td>\n",
       "      <td>RIVERWOODS</td>\n",
       "      <td>...</td>\n",
       "      <td>N</td>\n",
       "      <td>N</td>\n",
       "      <td>NaN</td>\n",
       "      <td>Y</td>\n",
       "      <td>NaN</td>\n",
       "      <td>RIVERWOODS</td>\n",
       "      <td>LAKE</td>\n",
       "      <td>IL</td>\n",
       "      <td>60015</td>\n",
       "      <td>2016-03-01</td>\n",
       "    </tr>\n",
       "    <tr>\n",
       "      <th>1</th>\n",
       "      <td>CERTIFIED-WITHDRAWN</td>\n",
       "      <td>2016-03-04</td>\n",
       "      <td>2016-10-01</td>\n",
       "      <td>H-1B</td>\n",
       "      <td>2016-08-16</td>\n",
       "      <td>2019-08-16</td>\n",
       "      <td>DFS SERVICES LLC</td>\n",
       "      <td>NaN</td>\n",
       "      <td>2500 LAKE COOK ROAD</td>\n",
       "      <td>RIVERWOODS</td>\n",
       "      <td>...</td>\n",
       "      <td>N</td>\n",
       "      <td>N</td>\n",
       "      <td>NaN</td>\n",
       "      <td>Y</td>\n",
       "      <td>NaN</td>\n",
       "      <td>RIVERWOODS</td>\n",
       "      <td>LAKE</td>\n",
       "      <td>IL</td>\n",
       "      <td>60015</td>\n",
       "      <td>2016-03-08</td>\n",
       "    </tr>\n",
       "    <tr>\n",
       "      <th>2</th>\n",
       "      <td>CERTIFIED-WITHDRAWN</td>\n",
       "      <td>2016-03-10</td>\n",
       "      <td>2016-10-01</td>\n",
       "      <td>H-1B</td>\n",
       "      <td>2016-09-09</td>\n",
       "      <td>2019-09-09</td>\n",
       "      <td>EASTBANC TECHNOLOGIES LLC</td>\n",
       "      <td>NaN</td>\n",
       "      <td>1211 31ST ST. NW</td>\n",
       "      <td>WASHINGTON</td>\n",
       "      <td>...</td>\n",
       "      <td>Y</td>\n",
       "      <td>N</td>\n",
       "      <td>Y</td>\n",
       "      <td>NaN</td>\n",
       "      <td>NaN</td>\n",
       "      <td>WASHINGTON</td>\n",
       "      <td>NaN</td>\n",
       "      <td>DC</td>\n",
       "      <td>20007</td>\n",
       "      <td>2016-03-16</td>\n",
       "    </tr>\n",
       "    <tr>\n",
       "      <th>3</th>\n",
       "      <td>WITHDRAWN</td>\n",
       "      <td>2016-09-28</td>\n",
       "      <td>2016-10-01</td>\n",
       "      <td>H-1B</td>\n",
       "      <td>2017-01-26</td>\n",
       "      <td>2020-01-25</td>\n",
       "      <td>INFO SERVICES LLC</td>\n",
       "      <td>NaN</td>\n",
       "      <td>17177 NORTH LAUREL PARK DR</td>\n",
       "      <td>LIVONIA</td>\n",
       "      <td>...</td>\n",
       "      <td>Y</td>\n",
       "      <td>N</td>\n",
       "      <td>Y</td>\n",
       "      <td>NaN</td>\n",
       "      <td>NaN</td>\n",
       "      <td>JERSEY CITY</td>\n",
       "      <td>HUDSON</td>\n",
       "      <td>NJ</td>\n",
       "      <td>07302</td>\n",
       "      <td>NaN</td>\n",
       "    </tr>\n",
       "    <tr>\n",
       "      <th>4</th>\n",
       "      <td>CERTIFIED-WITHDRAWN</td>\n",
       "      <td>2015-02-22</td>\n",
       "      <td>2016-10-02</td>\n",
       "      <td>H-1B</td>\n",
       "      <td>2015-03-01</td>\n",
       "      <td>2018-03-01</td>\n",
       "      <td>BB&amp;T CORPORATION</td>\n",
       "      <td>NaN</td>\n",
       "      <td>223 WEST NASH STREET</td>\n",
       "      <td>WILSON</td>\n",
       "      <td>...</td>\n",
       "      <td>N</td>\n",
       "      <td>N</td>\n",
       "      <td>NaN</td>\n",
       "      <td>Y</td>\n",
       "      <td>NaN</td>\n",
       "      <td>NEW YORK</td>\n",
       "      <td>NEW YORK</td>\n",
       "      <td>NY</td>\n",
       "      <td>10036</td>\n",
       "      <td>2015-02-26</td>\n",
       "    </tr>\n",
       "  </tbody>\n",
       "</table>\n",
       "<p>5 rows × 51 columns</p>\n",
       "</div>"
      ],
      "text/plain": [
       "           CASE_STATUS CASE_SUBMITTED DECISION_DATE VISA_CLASS  \\\n",
       "0  CERTIFIED-WITHDRAWN     2016-02-24    2016-10-01       H-1B   \n",
       "1  CERTIFIED-WITHDRAWN     2016-03-04    2016-10-01       H-1B   \n",
       "2  CERTIFIED-WITHDRAWN     2016-03-10    2016-10-01       H-1B   \n",
       "3            WITHDRAWN     2016-09-28    2016-10-01       H-1B   \n",
       "4  CERTIFIED-WITHDRAWN     2015-02-22    2016-10-02       H-1B   \n",
       "\n",
       "  EMPLOYMENT_START_DATE EMPLOYMENT_END_DATE              EMPLOYER_NAME  \\\n",
       "0            2016-08-10          2019-08-10     DISCOVER PRODUCTS INC.   \n",
       "1            2016-08-16          2019-08-16           DFS SERVICES LLC   \n",
       "2            2016-09-09          2019-09-09  EASTBANC TECHNOLOGIES LLC   \n",
       "3            2017-01-26          2020-01-25          INFO SERVICES LLC   \n",
       "4            2015-03-01          2018-03-01           BB&T CORPORATION   \n",
       "\n",
       "  EMPLOYER_BUSINESS_DBA            EMPLOYER_ADDRESS EMPLOYER_CITY  \\\n",
       "0                   NaN         2500 LAKE COOK ROAD    RIVERWOODS   \n",
       "1                   NaN         2500 LAKE COOK ROAD    RIVERWOODS   \n",
       "2                   NaN            1211 31ST ST. NW    WASHINGTON   \n",
       "3                   NaN  17177 NORTH LAUREL PARK DR       LIVONIA   \n",
       "4                   NaN        223 WEST NASH STREET        WILSON   \n",
       "\n",
       "         ...         H1B_DEPENDENT WILLFUL_VIOLATOR SUPPORT_H1B  \\\n",
       "0        ...                     N                N         NaN   \n",
       "1        ...                     N                N         NaN   \n",
       "2        ...                     Y                N           Y   \n",
       "3        ...                     Y                N           Y   \n",
       "4        ...                     N                N         NaN   \n",
       "\n",
       "  LABOR_CON_AGREE PUBLIC_DISCLOSURE_LOCATION WORKSITE_CITY WORKSITE_COUNTY  \\\n",
       "0               Y                        NaN    RIVERWOODS            LAKE   \n",
       "1               Y                        NaN    RIVERWOODS            LAKE   \n",
       "2             NaN                        NaN    WASHINGTON             NaN   \n",
       "3             NaN                        NaN   JERSEY CITY          HUDSON   \n",
       "4               Y                        NaN      NEW YORK        NEW YORK   \n",
       "\n",
       "  WORKSITE_STATE WORKSITE_POSTAL_CODE ORIGINAL_CERT_DATE  \n",
       "0             IL                60015         2016-03-01  \n",
       "1             IL                60015         2016-03-08  \n",
       "2             DC                20007         2016-03-16  \n",
       "3             NJ                07302                NaN  \n",
       "4             NY                10036         2015-02-26  \n",
       "\n",
       "[5 rows x 51 columns]"
      ]
     },
     "execution_count": 5,
     "metadata": {},
     "output_type": "execute_result"
    }
   ],
   "source": [
    "df.head()"
   ]
  },
  {
   "cell_type": "code",
   "execution_count": 6,
   "metadata": {},
   "outputs": [
    {
     "data": {
      "text/plain": [
       "581380"
      ]
     },
     "execution_count": 6,
     "metadata": {},
     "output_type": "execute_result"
    }
   ],
   "source": [
    "df.isnull().sum()['EMPLOYER_BUSINESS_DBA']"
   ]
  },
  {
   "cell_type": "code",
   "execution_count": 7,
   "metadata": {
    "collapsed": true
   },
   "outputs": [],
   "source": [
    "drop_cols = []\n",
    "for col in list(df.columns):\n",
    "    if(df.isnull().sum()[col]>500000):\n",
    "        drop_cols.append(col)\n",
    "df.drop(drop_cols,1,inplace=True)"
   ]
  },
  {
   "cell_type": "code",
   "execution_count": 8,
   "metadata": {},
   "outputs": [
    {
     "data": {
      "text/plain": [
       "CASE_STATUS                         0\n",
       "CASE_SUBMITTED                      0\n",
       "DECISION_DATE                       0\n",
       "VISA_CLASS                          0\n",
       "EMPLOYMENT_START_DATE              29\n",
       "EMPLOYMENT_END_DATE                30\n",
       "EMPLOYER_NAME                      56\n",
       "EMPLOYER_ADDRESS                    7\n",
       "EMPLOYER_CITY                      15\n",
       "EMPLOYER_STATE                     18\n",
       "EMPLOYER_POSTAL_CODE               18\n",
       "EMPLOYER_COUNTRY                96507\n",
       "EMPLOYER_PHONE                  96508\n",
       "AGENT_REPRESENTING_EMPLOYER     96506\n",
       "AGENT_ATTORNEY_NAME                 0\n",
       "AGENT_ATTORNEY_CITY            273306\n",
       "AGENT_ATTORNEY_STATE           288641\n",
       "JOB_TITLE                           5\n",
       "SOC_CODE                            2\n",
       "SOC_NAME                            3\n",
       "NAICS_CODE                          7\n",
       "TOTAL_WORKERS                       0\n",
       "NEW_EMPLOYMENT                      0\n",
       "CONTINUED_EMPLOYMENT                0\n",
       "CHANGE_PREVIOUS_EMPLOYMENT          0\n",
       "NEW_CONCURRENT_EMPLOYMENT           0\n",
       "CHANGE_EMPLOYER                     0\n",
       "AMENDED_PETITION                    0\n",
       "FULL_TIME_POSITION                  5\n",
       "PREVAILING_WAGE                     1\n",
       "PW_UNIT_OF_PAY                     46\n",
       "PW_WAGE_LEVEL                  123720\n",
       "PW_SOURCE                          46\n",
       "PW_SOURCE_YEAR                     45\n",
       "PW_SOURCE_OTHER                  6372\n",
       "WAGE_RATE_OF_PAY_FROM               0\n",
       "WAGE_RATE_OF_PAY_TO                 1\n",
       "WAGE_UNIT_OF_PAY                    8\n",
       "H1B_DEPENDENT                   13742\n",
       "WILLFUL_VIOLATOR                13745\n",
       "SUPPORT_H1B                    384174\n",
       "LABOR_CON_AGREE                379675\n",
       "WORKSITE_CITY                      13\n",
       "WORKSITE_COUNTY                  1179\n",
       "WORKSITE_STATE                      9\n",
       "WORKSITE_POSTAL_CODE               19\n",
       "dtype: int64"
      ]
     },
     "execution_count": 8,
     "metadata": {},
     "output_type": "execute_result"
    }
   ],
   "source": [
    "df.isnull().sum()"
   ]
  },
  {
   "cell_type": "code",
   "execution_count": 9,
   "metadata": {},
   "outputs": [
    {
     "data": {
      "text/plain": [
       "(624650, 46)"
      ]
     },
     "execution_count": 9,
     "metadata": {},
     "output_type": "execute_result"
    }
   ],
   "source": [
    "df.shape"
   ]
  },
  {
   "cell_type": "code",
   "execution_count": 10,
   "metadata": {
    "collapsed": true
   },
   "outputs": [],
   "source": [
    "df.drop(['EMPLOYER_PHONE'],1,inplace=True)"
   ]
  },
  {
   "cell_type": "code",
   "execution_count": 11,
   "metadata": {},
   "outputs": [
    {
     "data": {
      "text/plain": [
       "CASE_STATUS                         0\n",
       "CASE_SUBMITTED                      0\n",
       "DECISION_DATE                       0\n",
       "VISA_CLASS                          0\n",
       "EMPLOYMENT_START_DATE              29\n",
       "EMPLOYMENT_END_DATE                30\n",
       "EMPLOYER_NAME                      56\n",
       "EMPLOYER_ADDRESS                    7\n",
       "EMPLOYER_CITY                      15\n",
       "EMPLOYER_STATE                     18\n",
       "EMPLOYER_POSTAL_CODE               18\n",
       "EMPLOYER_COUNTRY                96507\n",
       "AGENT_REPRESENTING_EMPLOYER     96506\n",
       "AGENT_ATTORNEY_NAME                 0\n",
       "AGENT_ATTORNEY_CITY            273306\n",
       "AGENT_ATTORNEY_STATE           288641\n",
       "JOB_TITLE                           5\n",
       "SOC_CODE                            2\n",
       "SOC_NAME                            3\n",
       "NAICS_CODE                          7\n",
       "TOTAL_WORKERS                       0\n",
       "NEW_EMPLOYMENT                      0\n",
       "CONTINUED_EMPLOYMENT                0\n",
       "CHANGE_PREVIOUS_EMPLOYMENT          0\n",
       "NEW_CONCURRENT_EMPLOYMENT           0\n",
       "CHANGE_EMPLOYER                     0\n",
       "AMENDED_PETITION                    0\n",
       "FULL_TIME_POSITION                  5\n",
       "PREVAILING_WAGE                     1\n",
       "PW_UNIT_OF_PAY                     46\n",
       "PW_WAGE_LEVEL                  123720\n",
       "PW_SOURCE                          46\n",
       "PW_SOURCE_YEAR                     45\n",
       "PW_SOURCE_OTHER                  6372\n",
       "WAGE_RATE_OF_PAY_FROM               0\n",
       "WAGE_RATE_OF_PAY_TO                 1\n",
       "WAGE_UNIT_OF_PAY                    8\n",
       "H1B_DEPENDENT                   13742\n",
       "WILLFUL_VIOLATOR                13745\n",
       "SUPPORT_H1B                    384174\n",
       "LABOR_CON_AGREE                379675\n",
       "WORKSITE_CITY                      13\n",
       "WORKSITE_COUNTY                  1179\n",
       "WORKSITE_STATE                      9\n",
       "WORKSITE_POSTAL_CODE               19\n",
       "dtype: int64"
      ]
     },
     "execution_count": 11,
     "metadata": {},
     "output_type": "execute_result"
    }
   ],
   "source": [
    "df.isnull().sum()"
   ]
  },
  {
   "cell_type": "code",
   "execution_count": 12,
   "metadata": {},
   "outputs": [
    {
     "data": {
      "text/plain": [
       ",                                           273306\n",
       "GOEL, VIC                                     5072\n",
       "WALSH, MARC                                   5065\n",
       "GUPTA, OISHIKA                                4873\n",
       "MICHAELS, REBECCA                             4169\n",
       "CHUGH, NAVNEET                                4158\n",
       "MUHLENKAMP, PRISCILLA                         4023\n",
       "ALLEN, THOMAS                                 3590\n",
       "ALEMU, SAMUEL                                 3330\n",
       "SHEPARD, MICHELLE                             2364\n",
       "JETHMALANI, ANIL                              2202\n",
       "ANNICELLI, SAPNA                              2008\n",
       "SHERIDAN REGUERIN, SANDRA                     1764\n",
       "AKULA, KAVITHA                                1754\n",
       "BAHNAN, NADINE                                1576\n",
       "SEADIE, KESHAB                                1568\n",
       "LAMBOLEY, HAROLD                              1423\n",
       "EISENSTADT, MICHAEL                           1373\n",
       "NALLIAH, RAJAGURU                             1347\n",
       "NIEVES, JENNY                                 1300\n",
       "HENNER, JANET                                 1289\n",
       "MORTON, MICHAEL                               1227\n",
       "TADMOR, YOAV                                  1153\n",
       "MARANCI, DANIEL                               1134\n",
       "BEARDSLEY, RACHEL                             1127\n",
       "MARONEY, JACQUELYN                            1126\n",
       "SMITH, ADAM                                   1123\n",
       "POORAK, SHARON                                1120\n",
       "MEHROTRA, RAKESH                              1064\n",
       "GROBAN, JR., ROBERT                           1064\n",
       "                                             ...  \n",
       "PALCES, JUDE                                     1\n",
       "HARTZMAN, DANIEL                                 1\n",
       "WILSON, ANDREW                                   1\n",
       "WAGNER, KURT                                     1\n",
       "SHEKIB, KHALID                                   1\n",
       "SERNA, DANIEL                                    1\n",
       "LEMLEY, DANIEL                                   1\n",
       "CRNILOVIC, IVAN                                  1\n",
       "NARDUCCI, MICHAEL                                1\n",
       "WANG, ANDRE                                      1\n",
       "CASALINS, MAIBE                                  1\n",
       "LEE, SU YEON                                     1\n",
       "MEHRANI, GHAZAL                                  1\n",
       "LENZEN, GLENN                                    1\n",
       "PHILLIPS, JR., ROBERT                            1\n",
       "RIVOLTA (352A / 13004-01235-007), NICOLO         1\n",
       "GHAFOOR, ASIM                                    1\n",
       "GOMEZ-URQUIZA, JOSE                              1\n",
       "DELVECCHIO, DYANN                                1\n",
       "LI, JIN                                          1\n",
       "DIVYA, PATEL                                     1\n",
       "CHRISTENSEN, CHRIS                               1\n",
       "REBACK, SANFORD                                  1\n",
       "JAY, LEE                                         1\n",
       "MEJIA, DENISE                                    1\n",
       "BLOCK, HAROLD                                    1\n",
       "LEWIS, STEFFANIE                                 1\n",
       "WINARICK, SHERYL                                 1\n",
       "MERCHANT, ZAIN                                   1\n",
       "SHANNON, ROBERT                                  1\n",
       "Name: AGENT_ATTORNEY_NAME, Length: 6621, dtype: int64"
      ]
     },
     "execution_count": 12,
     "metadata": {},
     "output_type": "execute_result"
    }
   ],
   "source": [
    "df.AGENT_ATTORNEY_NAME.value_counts()"
   ]
  },
  {
   "cell_type": "code",
   "execution_count": 13,
   "metadata": {},
   "outputs": [
    {
     "data": {
      "text/html": [
       "<div>\n",
       "<style scoped>\n",
       "    .dataframe tbody tr th:only-of-type {\n",
       "        vertical-align: middle;\n",
       "    }\n",
       "\n",
       "    .dataframe tbody tr th {\n",
       "        vertical-align: top;\n",
       "    }\n",
       "\n",
       "    .dataframe thead th {\n",
       "        text-align: right;\n",
       "    }\n",
       "</style>\n",
       "<table border=\"1\" class=\"dataframe\">\n",
       "  <thead>\n",
       "    <tr style=\"text-align: right;\">\n",
       "      <th></th>\n",
       "      <th>CASE_STATUS</th>\n",
       "      <th>CASE_SUBMITTED</th>\n",
       "      <th>DECISION_DATE</th>\n",
       "      <th>VISA_CLASS</th>\n",
       "      <th>EMPLOYMENT_START_DATE</th>\n",
       "      <th>EMPLOYMENT_END_DATE</th>\n",
       "      <th>EMPLOYER_NAME</th>\n",
       "      <th>EMPLOYER_ADDRESS</th>\n",
       "      <th>EMPLOYER_CITY</th>\n",
       "      <th>EMPLOYER_STATE</th>\n",
       "      <th>...</th>\n",
       "      <th>WAGE_RATE_OF_PAY_TO</th>\n",
       "      <th>WAGE_UNIT_OF_PAY</th>\n",
       "      <th>H1B_DEPENDENT</th>\n",
       "      <th>WILLFUL_VIOLATOR</th>\n",
       "      <th>SUPPORT_H1B</th>\n",
       "      <th>LABOR_CON_AGREE</th>\n",
       "      <th>WORKSITE_CITY</th>\n",
       "      <th>WORKSITE_COUNTY</th>\n",
       "      <th>WORKSITE_STATE</th>\n",
       "      <th>WORKSITE_POSTAL_CODE</th>\n",
       "    </tr>\n",
       "  </thead>\n",
       "  <tbody>\n",
       "    <tr>\n",
       "      <th>0</th>\n",
       "      <td>CERTIFIED-WITHDRAWN</td>\n",
       "      <td>2016-02-24</td>\n",
       "      <td>2016-10-01</td>\n",
       "      <td>H-1B</td>\n",
       "      <td>2016-08-10</td>\n",
       "      <td>2019-08-10</td>\n",
       "      <td>DISCOVER PRODUCTS INC.</td>\n",
       "      <td>2500 LAKE COOK ROAD</td>\n",
       "      <td>RIVERWOODS</td>\n",
       "      <td>IL</td>\n",
       "      <td>...</td>\n",
       "      <td>67320.0</td>\n",
       "      <td>Year</td>\n",
       "      <td>N</td>\n",
       "      <td>N</td>\n",
       "      <td>NaN</td>\n",
       "      <td>Y</td>\n",
       "      <td>RIVERWOODS</td>\n",
       "      <td>LAKE</td>\n",
       "      <td>IL</td>\n",
       "      <td>60015</td>\n",
       "    </tr>\n",
       "    <tr>\n",
       "      <th>1</th>\n",
       "      <td>CERTIFIED-WITHDRAWN</td>\n",
       "      <td>2016-03-04</td>\n",
       "      <td>2016-10-01</td>\n",
       "      <td>H-1B</td>\n",
       "      <td>2016-08-16</td>\n",
       "      <td>2019-08-16</td>\n",
       "      <td>DFS SERVICES LLC</td>\n",
       "      <td>2500 LAKE COOK ROAD</td>\n",
       "      <td>RIVERWOODS</td>\n",
       "      <td>IL</td>\n",
       "      <td>...</td>\n",
       "      <td>57200.0</td>\n",
       "      <td>Year</td>\n",
       "      <td>N</td>\n",
       "      <td>N</td>\n",
       "      <td>NaN</td>\n",
       "      <td>Y</td>\n",
       "      <td>RIVERWOODS</td>\n",
       "      <td>LAKE</td>\n",
       "      <td>IL</td>\n",
       "      <td>60015</td>\n",
       "    </tr>\n",
       "    <tr>\n",
       "      <th>2</th>\n",
       "      <td>CERTIFIED-WITHDRAWN</td>\n",
       "      <td>2016-03-10</td>\n",
       "      <td>2016-10-01</td>\n",
       "      <td>H-1B</td>\n",
       "      <td>2016-09-09</td>\n",
       "      <td>2019-09-09</td>\n",
       "      <td>EASTBANC TECHNOLOGIES LLC</td>\n",
       "      <td>1211 31ST ST. NW</td>\n",
       "      <td>WASHINGTON</td>\n",
       "      <td>DC</td>\n",
       "      <td>...</td>\n",
       "      <td>0.0</td>\n",
       "      <td>Year</td>\n",
       "      <td>Y</td>\n",
       "      <td>N</td>\n",
       "      <td>Y</td>\n",
       "      <td>NaN</td>\n",
       "      <td>WASHINGTON</td>\n",
       "      <td>NaN</td>\n",
       "      <td>DC</td>\n",
       "      <td>20007</td>\n",
       "    </tr>\n",
       "    <tr>\n",
       "      <th>3</th>\n",
       "      <td>WITHDRAWN</td>\n",
       "      <td>2016-09-28</td>\n",
       "      <td>2016-10-01</td>\n",
       "      <td>H-1B</td>\n",
       "      <td>2017-01-26</td>\n",
       "      <td>2020-01-25</td>\n",
       "      <td>INFO SERVICES LLC</td>\n",
       "      <td>17177 NORTH LAUREL PARK DR</td>\n",
       "      <td>LIVONIA</td>\n",
       "      <td>MI</td>\n",
       "      <td>...</td>\n",
       "      <td>0.0</td>\n",
       "      <td>Year</td>\n",
       "      <td>Y</td>\n",
       "      <td>N</td>\n",
       "      <td>Y</td>\n",
       "      <td>NaN</td>\n",
       "      <td>JERSEY CITY</td>\n",
       "      <td>HUDSON</td>\n",
       "      <td>NJ</td>\n",
       "      <td>07302</td>\n",
       "    </tr>\n",
       "    <tr>\n",
       "      <th>4</th>\n",
       "      <td>CERTIFIED-WITHDRAWN</td>\n",
       "      <td>2015-02-22</td>\n",
       "      <td>2016-10-02</td>\n",
       "      <td>H-1B</td>\n",
       "      <td>2015-03-01</td>\n",
       "      <td>2018-03-01</td>\n",
       "      <td>BB&amp;T CORPORATION</td>\n",
       "      <td>223 WEST NASH STREET</td>\n",
       "      <td>WILSON</td>\n",
       "      <td>NC</td>\n",
       "      <td>...</td>\n",
       "      <td>0.0</td>\n",
       "      <td>Year</td>\n",
       "      <td>N</td>\n",
       "      <td>N</td>\n",
       "      <td>NaN</td>\n",
       "      <td>Y</td>\n",
       "      <td>NEW YORK</td>\n",
       "      <td>NEW YORK</td>\n",
       "      <td>NY</td>\n",
       "      <td>10036</td>\n",
       "    </tr>\n",
       "  </tbody>\n",
       "</table>\n",
       "<p>5 rows × 45 columns</p>\n",
       "</div>"
      ],
      "text/plain": [
       "           CASE_STATUS CASE_SUBMITTED DECISION_DATE VISA_CLASS  \\\n",
       "0  CERTIFIED-WITHDRAWN     2016-02-24    2016-10-01       H-1B   \n",
       "1  CERTIFIED-WITHDRAWN     2016-03-04    2016-10-01       H-1B   \n",
       "2  CERTIFIED-WITHDRAWN     2016-03-10    2016-10-01       H-1B   \n",
       "3            WITHDRAWN     2016-09-28    2016-10-01       H-1B   \n",
       "4  CERTIFIED-WITHDRAWN     2015-02-22    2016-10-02       H-1B   \n",
       "\n",
       "  EMPLOYMENT_START_DATE EMPLOYMENT_END_DATE              EMPLOYER_NAME  \\\n",
       "0            2016-08-10          2019-08-10     DISCOVER PRODUCTS INC.   \n",
       "1            2016-08-16          2019-08-16           DFS SERVICES LLC   \n",
       "2            2016-09-09          2019-09-09  EASTBANC TECHNOLOGIES LLC   \n",
       "3            2017-01-26          2020-01-25          INFO SERVICES LLC   \n",
       "4            2015-03-01          2018-03-01           BB&T CORPORATION   \n",
       "\n",
       "             EMPLOYER_ADDRESS EMPLOYER_CITY EMPLOYER_STATE  \\\n",
       "0         2500 LAKE COOK ROAD    RIVERWOODS             IL   \n",
       "1         2500 LAKE COOK ROAD    RIVERWOODS             IL   \n",
       "2            1211 31ST ST. NW    WASHINGTON             DC   \n",
       "3  17177 NORTH LAUREL PARK DR       LIVONIA             MI   \n",
       "4        223 WEST NASH STREET        WILSON             NC   \n",
       "\n",
       "          ...          WAGE_RATE_OF_PAY_TO WAGE_UNIT_OF_PAY H1B_DEPENDENT  \\\n",
       "0         ...                      67320.0             Year             N   \n",
       "1         ...                      57200.0             Year             N   \n",
       "2         ...                          0.0             Year             Y   \n",
       "3         ...                          0.0             Year             Y   \n",
       "4         ...                          0.0             Year             N   \n",
       "\n",
       "  WILLFUL_VIOLATOR SUPPORT_H1B LABOR_CON_AGREE WORKSITE_CITY WORKSITE_COUNTY  \\\n",
       "0                N         NaN               Y    RIVERWOODS            LAKE   \n",
       "1                N         NaN               Y    RIVERWOODS            LAKE   \n",
       "2                N           Y             NaN    WASHINGTON             NaN   \n",
       "3                N           Y             NaN   JERSEY CITY          HUDSON   \n",
       "4                N         NaN               Y      NEW YORK        NEW YORK   \n",
       "\n",
       "  WORKSITE_STATE WORKSITE_POSTAL_CODE  \n",
       "0             IL                60015  \n",
       "1             IL                60015  \n",
       "2             DC                20007  \n",
       "3             NJ                07302  \n",
       "4             NY                10036  \n",
       "\n",
       "[5 rows x 45 columns]"
      ]
     },
     "execution_count": 13,
     "metadata": {},
     "output_type": "execute_result"
    }
   ],
   "source": [
    "df.head()"
   ]
  },
  {
   "cell_type": "code",
   "execution_count": 14,
   "metadata": {},
   "outputs": [
    {
     "data": {
      "text/plain": [
       "CASE_STATUS                     object\n",
       "CASE_SUBMITTED                  object\n",
       "DECISION_DATE                   object\n",
       "VISA_CLASS                      object\n",
       "EMPLOYMENT_START_DATE           object\n",
       "EMPLOYMENT_END_DATE             object\n",
       "EMPLOYER_NAME                   object\n",
       "EMPLOYER_ADDRESS                object\n",
       "EMPLOYER_CITY                   object\n",
       "EMPLOYER_STATE                  object\n",
       "EMPLOYER_POSTAL_CODE            object\n",
       "EMPLOYER_COUNTRY                object\n",
       "AGENT_REPRESENTING_EMPLOYER     object\n",
       "AGENT_ATTORNEY_NAME             object\n",
       "AGENT_ATTORNEY_CITY             object\n",
       "AGENT_ATTORNEY_STATE            object\n",
       "JOB_TITLE                       object\n",
       "SOC_CODE                        object\n",
       "SOC_NAME                        object\n",
       "NAICS_CODE                      object\n",
       "TOTAL_WORKERS                    int64\n",
       "NEW_EMPLOYMENT                   int64\n",
       "CONTINUED_EMPLOYMENT             int64\n",
       "CHANGE_PREVIOUS_EMPLOYMENT       int64\n",
       "NEW_CONCURRENT_EMPLOYMENT        int64\n",
       "CHANGE_EMPLOYER                  int64\n",
       "AMENDED_PETITION                 int64\n",
       "FULL_TIME_POSITION              object\n",
       "PREVAILING_WAGE                float64\n",
       "PW_UNIT_OF_PAY                  object\n",
       "PW_WAGE_LEVEL                   object\n",
       "PW_SOURCE                       object\n",
       "PW_SOURCE_YEAR                 float64\n",
       "PW_SOURCE_OTHER                 object\n",
       "WAGE_RATE_OF_PAY_FROM          float64\n",
       "WAGE_RATE_OF_PAY_TO            float64\n",
       "WAGE_UNIT_OF_PAY                object\n",
       "H1B_DEPENDENT                   object\n",
       "WILLFUL_VIOLATOR                object\n",
       "SUPPORT_H1B                     object\n",
       "LABOR_CON_AGREE                 object\n",
       "WORKSITE_CITY                   object\n",
       "WORKSITE_COUNTY                 object\n",
       "WORKSITE_STATE                  object\n",
       "WORKSITE_POSTAL_CODE            object\n",
       "dtype: object"
      ]
     },
     "execution_count": 14,
     "metadata": {},
     "output_type": "execute_result"
    }
   ],
   "source": [
    "df.dtypes"
   ]
  },
  {
   "cell_type": "code",
   "execution_count": 15,
   "metadata": {
    "collapsed": true
   },
   "outputs": [],
   "source": [
    "drop_cols = ['EMPLOYER_ADDRESS','EMPLOYER_CITY','AGENT_ATTORNEY_NAME','AGENT_ATTORNEY_CITY','AGENT_ATTORNEY_STATE','SOC_NAME','WORKSITE_CITY','WORKSITE_COUNTY']\n",
    "df.drop(drop_cols,1,inplace=True)"
   ]
  },
  {
   "cell_type": "code",
   "execution_count": 16,
   "metadata": {},
   "outputs": [
    {
     "data": {
      "text/plain": [
       "Y    231915\n",
       "N      8561\n",
       "Name: SUPPORT_H1B, dtype: int64"
      ]
     },
     "execution_count": 16,
     "metadata": {},
     "output_type": "execute_result"
    }
   ],
   "source": [
    "df.SUPPORT_H1B.value_counts()"
   ]
  },
  {
   "cell_type": "code",
   "execution_count": 17,
   "metadata": {},
   "outputs": [
    {
     "data": {
      "text/plain": [
       "H-1B               610304\n",
       "E-3 Australian      12157\n",
       "H-1B1 Singapore      1254\n",
       "H-1B1 Chile           935\n",
       "Name: VISA_CLASS, dtype: int64"
      ]
     },
     "execution_count": 17,
     "metadata": {},
     "output_type": "execute_result"
    }
   ],
   "source": [
    "df.VISA_CLASS.value_counts(0)"
   ]
  },
  {
   "cell_type": "code",
   "execution_count": 18,
   "metadata": {},
   "outputs": [
    {
     "data": {
      "text/plain": [
       "CERTIFIED              545694\n",
       "CERTIFIED-WITHDRAWN     49704\n",
       "WITHDRAWN               20772\n",
       "DENIED                   8480\n",
       "Name: CASE_STATUS, dtype: int64"
      ]
     },
     "execution_count": 18,
     "metadata": {},
     "output_type": "execute_result"
    }
   ],
   "source": [
    "df.CASE_STATUS.value_counts()"
   ]
  },
  {
   "cell_type": "code",
   "execution_count": 19,
   "metadata": {},
   "outputs": [
    {
     "name": "stdout",
     "output_type": "stream",
     "text": [
      "0     489397\n",
      "1     120710\n",
      "5       5013\n",
      "3       2943\n",
      "2       2554\n",
      "9       1666\n",
      "4        742\n",
      "10       561\n",
      "15       483\n",
      "25       206\n",
      "8        125\n",
      "50       102\n",
      "6         83\n",
      "30        19\n",
      "20        14\n",
      "14        10\n",
      "12         4\n",
      "22         4\n",
      "7          3\n",
      "28         3\n",
      "55         3\n",
      "40         2\n",
      "17         1\n",
      "18         1\n",
      "35         1\n",
      "Name: CONTINUED_EMPLOYMENT, dtype: int64\n",
      "0     579838\n",
      "1      36379\n",
      "2       2414\n",
      "5       2374\n",
      "3       1677\n",
      "4        708\n",
      "10       405\n",
      "25       347\n",
      "15       246\n",
      "8        106\n",
      "6         77\n",
      "50        43\n",
      "20        26\n",
      "30         4\n",
      "40         2\n",
      "7          1\n",
      "45         1\n",
      "19         1\n",
      "9          1\n",
      "Name: CHANGE_PREVIOUS_EMPLOYMENT, dtype: int64\n",
      "Y    610769\n",
      "N     13876\n",
      "Name: FULL_TIME_POSITION, dtype: int64\n",
      "Year         585301\n",
      "Hour          38779\n",
      "Month           327\n",
      "Week            140\n",
      "Bi-Weekly        57\n",
      "Name: PW_UNIT_OF_PAY, dtype: int64\n",
      "Year         585417\n",
      "Hour          38405\n",
      "Month           502\n",
      "Week            188\n",
      "Bi-Weekly       130\n",
      "Name: WAGE_UNIT_OF_PAY, dtype: int64\n",
      "N    610428\n",
      "Y       477\n",
      "Name: WILLFUL_VIOLATOR, dtype: int64\n"
     ]
    }
   ],
   "source": [
    "cols = ['CONTINUED_EMPLOYMENT','CHANGE_PREVIOUS_EMPLOYMENT','FULL_TIME_POSITION','PW_UNIT_OF_PAY','WAGE_UNIT_OF_PAY','WILLFUL_VIOLATOR']\n",
    "for col in cols:\n",
    "    print(df[col].value_counts())"
   ]
  },
  {
   "cell_type": "code",
   "execution_count": 20,
   "metadata": {},
   "outputs": [
    {
     "data": {
      "text/plain": [
       "CASE_STATUS                         0\n",
       "CASE_SUBMITTED                      0\n",
       "DECISION_DATE                       0\n",
       "VISA_CLASS                          0\n",
       "EMPLOYMENT_START_DATE              29\n",
       "EMPLOYMENT_END_DATE                30\n",
       "EMPLOYER_NAME                      56\n",
       "EMPLOYER_STATE                     18\n",
       "EMPLOYER_POSTAL_CODE               18\n",
       "EMPLOYER_COUNTRY                96507\n",
       "AGENT_REPRESENTING_EMPLOYER     96506\n",
       "JOB_TITLE                           5\n",
       "SOC_CODE                            2\n",
       "NAICS_CODE                          7\n",
       "TOTAL_WORKERS                       0\n",
       "NEW_EMPLOYMENT                      0\n",
       "CONTINUED_EMPLOYMENT                0\n",
       "CHANGE_PREVIOUS_EMPLOYMENT          0\n",
       "NEW_CONCURRENT_EMPLOYMENT           0\n",
       "CHANGE_EMPLOYER                     0\n",
       "AMENDED_PETITION                    0\n",
       "FULL_TIME_POSITION                  5\n",
       "PREVAILING_WAGE                     1\n",
       "PW_UNIT_OF_PAY                     46\n",
       "PW_WAGE_LEVEL                  123720\n",
       "PW_SOURCE                          46\n",
       "PW_SOURCE_YEAR                     45\n",
       "PW_SOURCE_OTHER                  6372\n",
       "WAGE_RATE_OF_PAY_FROM               0\n",
       "WAGE_RATE_OF_PAY_TO                 1\n",
       "WAGE_UNIT_OF_PAY                    8\n",
       "H1B_DEPENDENT                   13742\n",
       "WILLFUL_VIOLATOR                13745\n",
       "SUPPORT_H1B                    384174\n",
       "LABOR_CON_AGREE                379675\n",
       "WORKSITE_STATE                      9\n",
       "WORKSITE_POSTAL_CODE               19\n",
       "dtype: int64"
      ]
     },
     "execution_count": 20,
     "metadata": {},
     "output_type": "execute_result"
    }
   ],
   "source": [
    "df.isnull().sum()"
   ]
  },
  {
   "cell_type": "code",
   "execution_count": 21,
   "metadata": {},
   "outputs": [
    {
     "data": {
      "text/plain": [
       "Y    233715\n",
       "N     11260\n",
       "Name: LABOR_CON_AGREE, dtype: int64"
      ]
     },
     "execution_count": 21,
     "metadata": {},
     "output_type": "execute_result"
    }
   ],
   "source": [
    "df.LABOR_CON_AGREE.value_counts()"
   ]
  },
  {
   "cell_type": "code",
   "execution_count": 22,
   "metadata": {},
   "outputs": [
    {
     "data": {
      "text/plain": [
       "Level I      221848\n",
       "Level II     179435\n",
       "Level III     62921\n",
       "Level IV      36726\n",
       "Name: PW_WAGE_LEVEL, dtype: int64"
      ]
     },
     "execution_count": 22,
     "metadata": {},
     "output_type": "execute_result"
    }
   ],
   "source": [
    "df.PW_WAGE_LEVEL.value_counts()"
   ]
  },
  {
   "cell_type": "code",
   "execution_count": 23,
   "metadata": {},
   "outputs": [
    {
     "data": {
      "text/plain": [
       "Y    351346\n",
       "N    176798\n",
       "Name: AGENT_REPRESENTING_EMPLOYER, dtype: int64"
      ]
     },
     "execution_count": 23,
     "metadata": {},
     "output_type": "execute_result"
    }
   ],
   "source": [
    "df.AGENT_REPRESENTING_EMPLOYER.value_counts()"
   ]
  },
  {
   "cell_type": "code",
   "execution_count": 24,
   "metadata": {
    "collapsed": true
   },
   "outputs": [],
   "source": [
    "df.loc[df.AGENT_REPRESENTING_EMPLOYER.isna(),'AGENT_REPRESENTING_EMPLOYER']='X'\n",
    "df.loc[df.LABOR_CON_AGREE.isna(),'LABOR_CON_AGREE']='X'\n",
    "df.loc[df.SUPPORT_H1B.isna(),'SUPPORT_H1B']='X'\n",
    "df.loc[df.EMPLOYMENT_START_DATE.isna(),'EMPLOYMENT_START_DATE']=df.EMPLOYMENT_START_DATE.mode()[0]\n",
    "df.loc[df.EMPLOYMENT_END_DATE.isna(),'EMPLOYMENT_END_DATE']= df.EMPLOYMENT_END_DATE.mode()[0]\n",
    "df.loc[df.PW_SOURCE_OTHER.isna(),'PW_SOURCE_OTHER']=df.PW_SOURCE_OTHER.mode()[0]\n",
    "df.loc[df.PW_WAGE_LEVEL.isna(),'PW_WAGE_LEVEL']='Level V'"
   ]
  },
  {
   "cell_type": "code",
   "execution_count": 25,
   "metadata": {},
   "outputs": [
    {
     "data": {
      "text/plain": [
       "CASE_STATUS                        0\n",
       "CASE_SUBMITTED                     0\n",
       "DECISION_DATE                      0\n",
       "VISA_CLASS                         0\n",
       "EMPLOYMENT_START_DATE              0\n",
       "EMPLOYMENT_END_DATE                0\n",
       "EMPLOYER_NAME                     56\n",
       "EMPLOYER_STATE                    18\n",
       "EMPLOYER_POSTAL_CODE              18\n",
       "EMPLOYER_COUNTRY               96507\n",
       "AGENT_REPRESENTING_EMPLOYER        0\n",
       "JOB_TITLE                          5\n",
       "SOC_CODE                           2\n",
       "NAICS_CODE                         7\n",
       "TOTAL_WORKERS                      0\n",
       "NEW_EMPLOYMENT                     0\n",
       "CONTINUED_EMPLOYMENT               0\n",
       "CHANGE_PREVIOUS_EMPLOYMENT         0\n",
       "NEW_CONCURRENT_EMPLOYMENT          0\n",
       "CHANGE_EMPLOYER                    0\n",
       "AMENDED_PETITION                   0\n",
       "FULL_TIME_POSITION                 5\n",
       "PREVAILING_WAGE                    1\n",
       "PW_UNIT_OF_PAY                    46\n",
       "PW_WAGE_LEVEL                      0\n",
       "PW_SOURCE                         46\n",
       "PW_SOURCE_YEAR                    45\n",
       "PW_SOURCE_OTHER                    0\n",
       "WAGE_RATE_OF_PAY_FROM              0\n",
       "WAGE_RATE_OF_PAY_TO                1\n",
       "WAGE_UNIT_OF_PAY                   8\n",
       "H1B_DEPENDENT                  13742\n",
       "WILLFUL_VIOLATOR               13745\n",
       "SUPPORT_H1B                        0\n",
       "LABOR_CON_AGREE                    0\n",
       "WORKSITE_STATE                     9\n",
       "WORKSITE_POSTAL_CODE              19\n",
       "dtype: int64"
      ]
     },
     "execution_count": 25,
     "metadata": {},
     "output_type": "execute_result"
    }
   ],
   "source": [
    "df.isna().sum()"
   ]
  },
  {
   "cell_type": "code",
   "execution_count": 26,
   "metadata": {
    "collapsed": true
   },
   "outputs": [],
   "source": [
    "df.loc[df.EMPLOYER_POSTAL_CODE.isna(),'EMPLOYER_POSTAL_CODE']=df.EMPLOYER_POSTAL_CODE.mode()[0]\n",
    "df.loc[df.EMPLOYER_NAME.isna(),'EMPLOYER_NAME']= df.EMPLOYER_NAME.mode()[0]"
   ]
  },
  {
   "cell_type": "code",
   "execution_count": 27,
   "metadata": {},
   "outputs": [
    {
     "data": {
      "text/plain": [
       "CASE_STATUS                        0\n",
       "CASE_SUBMITTED                     0\n",
       "DECISION_DATE                      0\n",
       "VISA_CLASS                         0\n",
       "EMPLOYMENT_START_DATE              0\n",
       "EMPLOYMENT_END_DATE                0\n",
       "EMPLOYER_NAME                      0\n",
       "EMPLOYER_STATE                    18\n",
       "EMPLOYER_POSTAL_CODE               0\n",
       "EMPLOYER_COUNTRY               96507\n",
       "AGENT_REPRESENTING_EMPLOYER        0\n",
       "JOB_TITLE                          5\n",
       "SOC_CODE                           2\n",
       "NAICS_CODE                         7\n",
       "TOTAL_WORKERS                      0\n",
       "NEW_EMPLOYMENT                     0\n",
       "CONTINUED_EMPLOYMENT               0\n",
       "CHANGE_PREVIOUS_EMPLOYMENT         0\n",
       "NEW_CONCURRENT_EMPLOYMENT          0\n",
       "CHANGE_EMPLOYER                    0\n",
       "AMENDED_PETITION                   0\n",
       "FULL_TIME_POSITION                 5\n",
       "PREVAILING_WAGE                    1\n",
       "PW_UNIT_OF_PAY                    46\n",
       "PW_WAGE_LEVEL                      0\n",
       "PW_SOURCE                         46\n",
       "PW_SOURCE_YEAR                    45\n",
       "PW_SOURCE_OTHER                    0\n",
       "WAGE_RATE_OF_PAY_FROM              0\n",
       "WAGE_RATE_OF_PAY_TO                1\n",
       "WAGE_UNIT_OF_PAY                   8\n",
       "H1B_DEPENDENT                  13742\n",
       "WILLFUL_VIOLATOR               13745\n",
       "SUPPORT_H1B                        0\n",
       "LABOR_CON_AGREE                    0\n",
       "WORKSITE_STATE                     9\n",
       "WORKSITE_POSTAL_CODE              19\n",
       "dtype: int64"
      ]
     },
     "execution_count": 27,
     "metadata": {},
     "output_type": "execute_result"
    }
   ],
   "source": [
    "df.isna().sum()"
   ]
  },
  {
   "cell_type": "code",
   "execution_count": 28,
   "metadata": {},
   "outputs": [
    {
     "data": {
      "text/plain": [
       "CERTIFIED              545694\n",
       "CERTIFIED-WITHDRAWN     49704\n",
       "WITHDRAWN               20772\n",
       "DENIED                   8480\n",
       "Name: CASE_STATUS, dtype: int64"
      ]
     },
     "execution_count": 28,
     "metadata": {},
     "output_type": "execute_result"
    }
   ],
   "source": [
    "df.CASE_STATUS.value_counts()"
   ]
  },
  {
   "cell_type": "code",
   "execution_count": 29,
   "metadata": {
    "collapsed": true
   },
   "outputs": [],
   "source": [
    "df.loc[df.H1B_DEPENDENT.isna(),'H1B_DEPENDENT']=df.H1B_DEPENDENT.mode()[0]\n",
    "df.loc[df.WILLFUL_VIOLATOR.isna(),'WILLFUL_VIOLATOR']= df.WILLFUL_VIOLATOR.mode()[0]\n",
    "df.loc[df.EMPLOYER_COUNTRY.isna(),'EMPLOYER_COUNTRY']= df.EMPLOYER_COUNTRY.mode()[0]"
   ]
  },
  {
   "cell_type": "code",
   "execution_count": 30,
   "metadata": {
    "collapsed": true
   },
   "outputs": [],
   "source": [
    "df.dropna(inplace=True)"
   ]
  },
  {
   "cell_type": "code",
   "execution_count": 31,
   "metadata": {},
   "outputs": [
    {
     "data": {
      "text/plain": [
       "(624544, 37)"
      ]
     },
     "execution_count": 31,
     "metadata": {},
     "output_type": "execute_result"
    }
   ],
   "source": [
    "df.shape"
   ]
  },
  {
   "cell_type": "code",
   "execution_count": 32,
   "metadata": {
    "collapsed": true
   },
   "outputs": [],
   "source": [
    "df['DECISION_DURATION'] = abs(pd.to_datetime(df.CASE_SUBMITTED) - pd.to_datetime(df.DECISION_DATE))\n",
    "df['EMPLOYMENT_DURATION'] = abs(pd.to_datetime(df.EMPLOYMENT_START_DATE) - pd.to_datetime(df.EMPLOYMENT_END_DATE))"
   ]
  },
  {
   "cell_type": "code",
   "execution_count": 33,
   "metadata": {
    "collapsed": true
   },
   "outputs": [],
   "source": [
    "df.drop(['CASE_SUBMITTED','DECISION_DATE','EMPLOYMENT_START_DATE','EMPLOYMENT_END_DATE'],axis=1,inplace=True)"
   ]
  },
  {
   "cell_type": "code",
   "execution_count": 34,
   "metadata": {},
   "outputs": [
    {
     "data": {
      "text/plain": [
       "CASE_STATUS                    0\n",
       "VISA_CLASS                     0\n",
       "EMPLOYER_NAME                  0\n",
       "EMPLOYER_STATE                 0\n",
       "EMPLOYER_POSTAL_CODE           0\n",
       "EMPLOYER_COUNTRY               0\n",
       "AGENT_REPRESENTING_EMPLOYER    0\n",
       "JOB_TITLE                      0\n",
       "SOC_CODE                       0\n",
       "NAICS_CODE                     0\n",
       "TOTAL_WORKERS                  0\n",
       "NEW_EMPLOYMENT                 0\n",
       "CONTINUED_EMPLOYMENT           0\n",
       "CHANGE_PREVIOUS_EMPLOYMENT     0\n",
       "NEW_CONCURRENT_EMPLOYMENT      0\n",
       "CHANGE_EMPLOYER                0\n",
       "AMENDED_PETITION               0\n",
       "FULL_TIME_POSITION             0\n",
       "PREVAILING_WAGE                0\n",
       "PW_UNIT_OF_PAY                 0\n",
       "PW_WAGE_LEVEL                  0\n",
       "PW_SOURCE                      0\n",
       "PW_SOURCE_YEAR                 0\n",
       "PW_SOURCE_OTHER                0\n",
       "WAGE_RATE_OF_PAY_FROM          0\n",
       "WAGE_RATE_OF_PAY_TO            0\n",
       "WAGE_UNIT_OF_PAY               0\n",
       "H1B_DEPENDENT                  0\n",
       "WILLFUL_VIOLATOR               0\n",
       "SUPPORT_H1B                    0\n",
       "LABOR_CON_AGREE                0\n",
       "WORKSITE_STATE                 0\n",
       "WORKSITE_POSTAL_CODE           0\n",
       "DECISION_DURATION              0\n",
       "EMPLOYMENT_DURATION            0\n",
       "dtype: int64"
      ]
     },
     "execution_count": 34,
     "metadata": {},
     "output_type": "execute_result"
    }
   ],
   "source": [
    "df.isna().sum()"
   ]
  },
  {
   "cell_type": "code",
   "execution_count": 35,
   "metadata": {},
   "outputs": [
    {
     "data": {
      "text/html": [
       "<div>\n",
       "<style scoped>\n",
       "    .dataframe tbody tr th:only-of-type {\n",
       "        vertical-align: middle;\n",
       "    }\n",
       "\n",
       "    .dataframe tbody tr th {\n",
       "        vertical-align: top;\n",
       "    }\n",
       "\n",
       "    .dataframe thead th {\n",
       "        text-align: right;\n",
       "    }\n",
       "</style>\n",
       "<table border=\"1\" class=\"dataframe\">\n",
       "  <thead>\n",
       "    <tr style=\"text-align: right;\">\n",
       "      <th></th>\n",
       "      <th>CASE_STATUS</th>\n",
       "      <th>VISA_CLASS</th>\n",
       "      <th>EMPLOYER_NAME</th>\n",
       "      <th>EMPLOYER_STATE</th>\n",
       "      <th>EMPLOYER_POSTAL_CODE</th>\n",
       "      <th>EMPLOYER_COUNTRY</th>\n",
       "      <th>AGENT_REPRESENTING_EMPLOYER</th>\n",
       "      <th>JOB_TITLE</th>\n",
       "      <th>SOC_CODE</th>\n",
       "      <th>NAICS_CODE</th>\n",
       "      <th>...</th>\n",
       "      <th>WAGE_RATE_OF_PAY_TO</th>\n",
       "      <th>WAGE_UNIT_OF_PAY</th>\n",
       "      <th>H1B_DEPENDENT</th>\n",
       "      <th>WILLFUL_VIOLATOR</th>\n",
       "      <th>SUPPORT_H1B</th>\n",
       "      <th>LABOR_CON_AGREE</th>\n",
       "      <th>WORKSITE_STATE</th>\n",
       "      <th>WORKSITE_POSTAL_CODE</th>\n",
       "      <th>DECISION_DURATION</th>\n",
       "      <th>EMPLOYMENT_DURATION</th>\n",
       "    </tr>\n",
       "  </thead>\n",
       "  <tbody>\n",
       "    <tr>\n",
       "      <th>0</th>\n",
       "      <td>CERTIFIED-WITHDRAWN</td>\n",
       "      <td>H-1B</td>\n",
       "      <td>DISCOVER PRODUCTS INC.</td>\n",
       "      <td>IL</td>\n",
       "      <td>60015</td>\n",
       "      <td>UNITED STATES OF AMERICA</td>\n",
       "      <td>Y</td>\n",
       "      <td>ASSOCIATE DATA INTEGRATION</td>\n",
       "      <td>15-1121</td>\n",
       "      <td>522210</td>\n",
       "      <td>...</td>\n",
       "      <td>67320.0</td>\n",
       "      <td>Year</td>\n",
       "      <td>N</td>\n",
       "      <td>N</td>\n",
       "      <td>X</td>\n",
       "      <td>Y</td>\n",
       "      <td>IL</td>\n",
       "      <td>60015</td>\n",
       "      <td>220 days</td>\n",
       "      <td>1095 days</td>\n",
       "    </tr>\n",
       "    <tr>\n",
       "      <th>1</th>\n",
       "      <td>CERTIFIED-WITHDRAWN</td>\n",
       "      <td>H-1B</td>\n",
       "      <td>DFS SERVICES LLC</td>\n",
       "      <td>IL</td>\n",
       "      <td>60015</td>\n",
       "      <td>UNITED STATES OF AMERICA</td>\n",
       "      <td>Y</td>\n",
       "      <td>SENIOR ASSOCIATE</td>\n",
       "      <td>15-2031</td>\n",
       "      <td>522210</td>\n",
       "      <td>...</td>\n",
       "      <td>57200.0</td>\n",
       "      <td>Year</td>\n",
       "      <td>N</td>\n",
       "      <td>N</td>\n",
       "      <td>X</td>\n",
       "      <td>Y</td>\n",
       "      <td>IL</td>\n",
       "      <td>60015</td>\n",
       "      <td>211 days</td>\n",
       "      <td>1095 days</td>\n",
       "    </tr>\n",
       "    <tr>\n",
       "      <th>2</th>\n",
       "      <td>CERTIFIED-WITHDRAWN</td>\n",
       "      <td>H-1B</td>\n",
       "      <td>EASTBANC TECHNOLOGIES LLC</td>\n",
       "      <td>DC</td>\n",
       "      <td>20007</td>\n",
       "      <td>UNITED STATES OF AMERICA</td>\n",
       "      <td>Y</td>\n",
       "      <td>.NET SOFTWARE PROGRAMMER</td>\n",
       "      <td>15-1131</td>\n",
       "      <td>541511</td>\n",
       "      <td>...</td>\n",
       "      <td>0.0</td>\n",
       "      <td>Year</td>\n",
       "      <td>Y</td>\n",
       "      <td>N</td>\n",
       "      <td>Y</td>\n",
       "      <td>X</td>\n",
       "      <td>DC</td>\n",
       "      <td>20007</td>\n",
       "      <td>205 days</td>\n",
       "      <td>1095 days</td>\n",
       "    </tr>\n",
       "    <tr>\n",
       "      <th>3</th>\n",
       "      <td>WITHDRAWN</td>\n",
       "      <td>H-1B</td>\n",
       "      <td>INFO SERVICES LLC</td>\n",
       "      <td>MI</td>\n",
       "      <td>48152</td>\n",
       "      <td>UNITED STATES OF AMERICA</td>\n",
       "      <td>N</td>\n",
       "      <td>PROJECT MANAGER</td>\n",
       "      <td>15-1199</td>\n",
       "      <td>541511</td>\n",
       "      <td>...</td>\n",
       "      <td>0.0</td>\n",
       "      <td>Year</td>\n",
       "      <td>Y</td>\n",
       "      <td>N</td>\n",
       "      <td>Y</td>\n",
       "      <td>X</td>\n",
       "      <td>NJ</td>\n",
       "      <td>07302</td>\n",
       "      <td>3 days</td>\n",
       "      <td>1094 days</td>\n",
       "    </tr>\n",
       "    <tr>\n",
       "      <th>4</th>\n",
       "      <td>CERTIFIED-WITHDRAWN</td>\n",
       "      <td>H-1B</td>\n",
       "      <td>BB&amp;T CORPORATION</td>\n",
       "      <td>NC</td>\n",
       "      <td>27893</td>\n",
       "      <td>UNITED STATES OF AMERICA</td>\n",
       "      <td>Y</td>\n",
       "      <td>ASSOCIATE - ESOTERIC ASSET BACKED SECURITIES</td>\n",
       "      <td>13-2041</td>\n",
       "      <td>522110</td>\n",
       "      <td>...</td>\n",
       "      <td>0.0</td>\n",
       "      <td>Year</td>\n",
       "      <td>N</td>\n",
       "      <td>N</td>\n",
       "      <td>X</td>\n",
       "      <td>Y</td>\n",
       "      <td>NY</td>\n",
       "      <td>10036</td>\n",
       "      <td>588 days</td>\n",
       "      <td>1096 days</td>\n",
       "    </tr>\n",
       "  </tbody>\n",
       "</table>\n",
       "<p>5 rows × 35 columns</p>\n",
       "</div>"
      ],
      "text/plain": [
       "           CASE_STATUS VISA_CLASS              EMPLOYER_NAME EMPLOYER_STATE  \\\n",
       "0  CERTIFIED-WITHDRAWN       H-1B     DISCOVER PRODUCTS INC.             IL   \n",
       "1  CERTIFIED-WITHDRAWN       H-1B           DFS SERVICES LLC             IL   \n",
       "2  CERTIFIED-WITHDRAWN       H-1B  EASTBANC TECHNOLOGIES LLC             DC   \n",
       "3            WITHDRAWN       H-1B          INFO SERVICES LLC             MI   \n",
       "4  CERTIFIED-WITHDRAWN       H-1B           BB&T CORPORATION             NC   \n",
       "\n",
       "  EMPLOYER_POSTAL_CODE          EMPLOYER_COUNTRY AGENT_REPRESENTING_EMPLOYER  \\\n",
       "0                60015  UNITED STATES OF AMERICA                           Y   \n",
       "1                60015  UNITED STATES OF AMERICA                           Y   \n",
       "2                20007  UNITED STATES OF AMERICA                           Y   \n",
       "3                48152  UNITED STATES OF AMERICA                           N   \n",
       "4                27893  UNITED STATES OF AMERICA                           Y   \n",
       "\n",
       "                                      JOB_TITLE SOC_CODE NAICS_CODE  \\\n",
       "0                    ASSOCIATE DATA INTEGRATION  15-1121     522210   \n",
       "1                              SENIOR ASSOCIATE  15-2031     522210   \n",
       "2                      .NET SOFTWARE PROGRAMMER  15-1131     541511   \n",
       "3                               PROJECT MANAGER  15-1199     541511   \n",
       "4  ASSOCIATE - ESOTERIC ASSET BACKED SECURITIES  13-2041     522110   \n",
       "\n",
       "          ...          WAGE_RATE_OF_PAY_TO  WAGE_UNIT_OF_PAY  H1B_DEPENDENT  \\\n",
       "0         ...                      67320.0              Year              N   \n",
       "1         ...                      57200.0              Year              N   \n",
       "2         ...                          0.0              Year              Y   \n",
       "3         ...                          0.0              Year              Y   \n",
       "4         ...                          0.0              Year              N   \n",
       "\n",
       "   WILLFUL_VIOLATOR  SUPPORT_H1B  LABOR_CON_AGREE  WORKSITE_STATE  \\\n",
       "0                 N            X                Y              IL   \n",
       "1                 N            X                Y              IL   \n",
       "2                 N            Y                X              DC   \n",
       "3                 N            Y                X              NJ   \n",
       "4                 N            X                Y              NY   \n",
       "\n",
       "  WORKSITE_POSTAL_CODE  DECISION_DURATION EMPLOYMENT_DURATION  \n",
       "0                60015           220 days           1095 days  \n",
       "1                60015           211 days           1095 days  \n",
       "2                20007           205 days           1095 days  \n",
       "3                07302             3 days           1094 days  \n",
       "4                10036           588 days           1096 days  \n",
       "\n",
       "[5 rows x 35 columns]"
      ]
     },
     "execution_count": 35,
     "metadata": {},
     "output_type": "execute_result"
    }
   ],
   "source": [
    "df.head()"
   ]
  },
  {
   "cell_type": "code",
   "execution_count": 36,
   "metadata": {
    "collapsed": true
   },
   "outputs": [],
   "source": [
    "df['EMPLOYMENT_DURATION'] = df['EMPLOYMENT_DURATION'].dt.days\n",
    "df['DECISION_DURATION'] = df['DECISION_DURATION'].dt.days"
   ]
  },
  {
   "cell_type": "code",
   "execution_count": 37,
   "metadata": {},
   "outputs": [
    {
     "data": {
      "text/html": [
       "<div>\n",
       "<style scoped>\n",
       "    .dataframe tbody tr th:only-of-type {\n",
       "        vertical-align: middle;\n",
       "    }\n",
       "\n",
       "    .dataframe tbody tr th {\n",
       "        vertical-align: top;\n",
       "    }\n",
       "\n",
       "    .dataframe thead th {\n",
       "        text-align: right;\n",
       "    }\n",
       "</style>\n",
       "<table border=\"1\" class=\"dataframe\">\n",
       "  <thead>\n",
       "    <tr style=\"text-align: right;\">\n",
       "      <th></th>\n",
       "      <th>CASE_STATUS</th>\n",
       "      <th>VISA_CLASS</th>\n",
       "      <th>EMPLOYER_NAME</th>\n",
       "      <th>EMPLOYER_STATE</th>\n",
       "      <th>EMPLOYER_POSTAL_CODE</th>\n",
       "      <th>EMPLOYER_COUNTRY</th>\n",
       "      <th>AGENT_REPRESENTING_EMPLOYER</th>\n",
       "      <th>JOB_TITLE</th>\n",
       "      <th>SOC_CODE</th>\n",
       "      <th>NAICS_CODE</th>\n",
       "      <th>...</th>\n",
       "      <th>WAGE_RATE_OF_PAY_TO</th>\n",
       "      <th>WAGE_UNIT_OF_PAY</th>\n",
       "      <th>H1B_DEPENDENT</th>\n",
       "      <th>WILLFUL_VIOLATOR</th>\n",
       "      <th>SUPPORT_H1B</th>\n",
       "      <th>LABOR_CON_AGREE</th>\n",
       "      <th>WORKSITE_STATE</th>\n",
       "      <th>WORKSITE_POSTAL_CODE</th>\n",
       "      <th>DECISION_DURATION</th>\n",
       "      <th>EMPLOYMENT_DURATION</th>\n",
       "    </tr>\n",
       "  </thead>\n",
       "  <tbody>\n",
       "    <tr>\n",
       "      <th>0</th>\n",
       "      <td>CERTIFIED-WITHDRAWN</td>\n",
       "      <td>H-1B</td>\n",
       "      <td>DISCOVER PRODUCTS INC.</td>\n",
       "      <td>IL</td>\n",
       "      <td>60015</td>\n",
       "      <td>UNITED STATES OF AMERICA</td>\n",
       "      <td>Y</td>\n",
       "      <td>ASSOCIATE DATA INTEGRATION</td>\n",
       "      <td>15-1121</td>\n",
       "      <td>522210</td>\n",
       "      <td>...</td>\n",
       "      <td>67320.0</td>\n",
       "      <td>Year</td>\n",
       "      <td>N</td>\n",
       "      <td>N</td>\n",
       "      <td>X</td>\n",
       "      <td>Y</td>\n",
       "      <td>IL</td>\n",
       "      <td>60015</td>\n",
       "      <td>220</td>\n",
       "      <td>1095</td>\n",
       "    </tr>\n",
       "    <tr>\n",
       "      <th>1</th>\n",
       "      <td>CERTIFIED-WITHDRAWN</td>\n",
       "      <td>H-1B</td>\n",
       "      <td>DFS SERVICES LLC</td>\n",
       "      <td>IL</td>\n",
       "      <td>60015</td>\n",
       "      <td>UNITED STATES OF AMERICA</td>\n",
       "      <td>Y</td>\n",
       "      <td>SENIOR ASSOCIATE</td>\n",
       "      <td>15-2031</td>\n",
       "      <td>522210</td>\n",
       "      <td>...</td>\n",
       "      <td>57200.0</td>\n",
       "      <td>Year</td>\n",
       "      <td>N</td>\n",
       "      <td>N</td>\n",
       "      <td>X</td>\n",
       "      <td>Y</td>\n",
       "      <td>IL</td>\n",
       "      <td>60015</td>\n",
       "      <td>211</td>\n",
       "      <td>1095</td>\n",
       "    </tr>\n",
       "    <tr>\n",
       "      <th>2</th>\n",
       "      <td>CERTIFIED-WITHDRAWN</td>\n",
       "      <td>H-1B</td>\n",
       "      <td>EASTBANC TECHNOLOGIES LLC</td>\n",
       "      <td>DC</td>\n",
       "      <td>20007</td>\n",
       "      <td>UNITED STATES OF AMERICA</td>\n",
       "      <td>Y</td>\n",
       "      <td>.NET SOFTWARE PROGRAMMER</td>\n",
       "      <td>15-1131</td>\n",
       "      <td>541511</td>\n",
       "      <td>...</td>\n",
       "      <td>0.0</td>\n",
       "      <td>Year</td>\n",
       "      <td>Y</td>\n",
       "      <td>N</td>\n",
       "      <td>Y</td>\n",
       "      <td>X</td>\n",
       "      <td>DC</td>\n",
       "      <td>20007</td>\n",
       "      <td>205</td>\n",
       "      <td>1095</td>\n",
       "    </tr>\n",
       "    <tr>\n",
       "      <th>3</th>\n",
       "      <td>WITHDRAWN</td>\n",
       "      <td>H-1B</td>\n",
       "      <td>INFO SERVICES LLC</td>\n",
       "      <td>MI</td>\n",
       "      <td>48152</td>\n",
       "      <td>UNITED STATES OF AMERICA</td>\n",
       "      <td>N</td>\n",
       "      <td>PROJECT MANAGER</td>\n",
       "      <td>15-1199</td>\n",
       "      <td>541511</td>\n",
       "      <td>...</td>\n",
       "      <td>0.0</td>\n",
       "      <td>Year</td>\n",
       "      <td>Y</td>\n",
       "      <td>N</td>\n",
       "      <td>Y</td>\n",
       "      <td>X</td>\n",
       "      <td>NJ</td>\n",
       "      <td>07302</td>\n",
       "      <td>3</td>\n",
       "      <td>1094</td>\n",
       "    </tr>\n",
       "    <tr>\n",
       "      <th>4</th>\n",
       "      <td>CERTIFIED-WITHDRAWN</td>\n",
       "      <td>H-1B</td>\n",
       "      <td>BB&amp;T CORPORATION</td>\n",
       "      <td>NC</td>\n",
       "      <td>27893</td>\n",
       "      <td>UNITED STATES OF AMERICA</td>\n",
       "      <td>Y</td>\n",
       "      <td>ASSOCIATE - ESOTERIC ASSET BACKED SECURITIES</td>\n",
       "      <td>13-2041</td>\n",
       "      <td>522110</td>\n",
       "      <td>...</td>\n",
       "      <td>0.0</td>\n",
       "      <td>Year</td>\n",
       "      <td>N</td>\n",
       "      <td>N</td>\n",
       "      <td>X</td>\n",
       "      <td>Y</td>\n",
       "      <td>NY</td>\n",
       "      <td>10036</td>\n",
       "      <td>588</td>\n",
       "      <td>1096</td>\n",
       "    </tr>\n",
       "  </tbody>\n",
       "</table>\n",
       "<p>5 rows × 35 columns</p>\n",
       "</div>"
      ],
      "text/plain": [
       "           CASE_STATUS VISA_CLASS              EMPLOYER_NAME EMPLOYER_STATE  \\\n",
       "0  CERTIFIED-WITHDRAWN       H-1B     DISCOVER PRODUCTS INC.             IL   \n",
       "1  CERTIFIED-WITHDRAWN       H-1B           DFS SERVICES LLC             IL   \n",
       "2  CERTIFIED-WITHDRAWN       H-1B  EASTBANC TECHNOLOGIES LLC             DC   \n",
       "3            WITHDRAWN       H-1B          INFO SERVICES LLC             MI   \n",
       "4  CERTIFIED-WITHDRAWN       H-1B           BB&T CORPORATION             NC   \n",
       "\n",
       "  EMPLOYER_POSTAL_CODE          EMPLOYER_COUNTRY AGENT_REPRESENTING_EMPLOYER  \\\n",
       "0                60015  UNITED STATES OF AMERICA                           Y   \n",
       "1                60015  UNITED STATES OF AMERICA                           Y   \n",
       "2                20007  UNITED STATES OF AMERICA                           Y   \n",
       "3                48152  UNITED STATES OF AMERICA                           N   \n",
       "4                27893  UNITED STATES OF AMERICA                           Y   \n",
       "\n",
       "                                      JOB_TITLE SOC_CODE NAICS_CODE  \\\n",
       "0                    ASSOCIATE DATA INTEGRATION  15-1121     522210   \n",
       "1                              SENIOR ASSOCIATE  15-2031     522210   \n",
       "2                      .NET SOFTWARE PROGRAMMER  15-1131     541511   \n",
       "3                               PROJECT MANAGER  15-1199     541511   \n",
       "4  ASSOCIATE - ESOTERIC ASSET BACKED SECURITIES  13-2041     522110   \n",
       "\n",
       "          ...          WAGE_RATE_OF_PAY_TO  WAGE_UNIT_OF_PAY  H1B_DEPENDENT  \\\n",
       "0         ...                      67320.0              Year              N   \n",
       "1         ...                      57200.0              Year              N   \n",
       "2         ...                          0.0              Year              Y   \n",
       "3         ...                          0.0              Year              Y   \n",
       "4         ...                          0.0              Year              N   \n",
       "\n",
       "   WILLFUL_VIOLATOR  SUPPORT_H1B  LABOR_CON_AGREE  WORKSITE_STATE  \\\n",
       "0                 N            X                Y              IL   \n",
       "1                 N            X                Y              IL   \n",
       "2                 N            Y                X              DC   \n",
       "3                 N            Y                X              NJ   \n",
       "4                 N            X                Y              NY   \n",
       "\n",
       "  WORKSITE_POSTAL_CODE  DECISION_DURATION EMPLOYMENT_DURATION  \n",
       "0                60015                220                1095  \n",
       "1                60015                211                1095  \n",
       "2                20007                205                1095  \n",
       "3                07302                  3                1094  \n",
       "4                10036                588                1096  \n",
       "\n",
       "[5 rows x 35 columns]"
      ]
     },
     "execution_count": 37,
     "metadata": {},
     "output_type": "execute_result"
    }
   ],
   "source": [
    "df.head()"
   ]
  },
  {
   "cell_type": "code",
   "execution_count": 60,
   "metadata": {
    "collapsed": true
   },
   "outputs": [],
   "source": [
    "df.to_csv('cleaned_h1b.csv',index=False)"
   ]
  },
  {
   "cell_type": "code",
   "execution_count": 61,
   "metadata": {},
   "outputs": [
    {
     "data": {
      "image/png": "[encoded data removed]",
      "text/plain": [
       "<Figure size 432x288 with 1 Axes>"
      ]
     },
     "metadata": {
      "needs_background": "light"
     },
     "output_type": "display_data"
    }
   ],
   "source": [
    "# Checking number of applications state wise.\n",
    "df.EMPLOYER_STATE.value_counts(ascending=True)[-15:].plot(kind='barh')\n",
    "plt.show()"
   ]
  },
  {
   "cell_type": "code",
   "execution_count": 62,
   "metadata": {},
   "outputs": [
    {
     "data": {
      "image/png": "[encoded data removed]",
      "text/plain": [
       "<Figure size 432x288 with 1 Axes>"
      ]
     },
     "metadata": {
      "needs_background": "light"
     },
     "output_type": "display_data"
    }
   ],
   "source": [
    "df[df.EMPLOYER_STATE=='CA'].groupby('CASE_STATUS').size().plot(kind='bar')\n",
    "plt.title('H1B Approval Count IN CA')\n",
    "plt.show()"
   ]
  },
  {
   "cell_type": "code",
   "execution_count": 63,
   "metadata": {},
   "outputs": [
    {
     "data": {
      "text/plain": [
       "CASE_STATUS                     object\n",
       "VISA_CLASS                      object\n",
       "EMPLOYER_NAME                   object\n",
       "EMPLOYER_STATE                  object\n",
       "EMPLOYER_POSTAL_CODE            object\n",
       "EMPLOYER_COUNTRY                object\n",
       "AGENT_REPRESENTING_EMPLOYER     object\n",
       "JOB_TITLE                       object\n",
       "SOC_CODE                        object\n",
       "NAICS_CODE                      object\n",
       "TOTAL_WORKERS                    int64\n",
       "NEW_EMPLOYMENT                   int64\n",
       "CONTINUED_EMPLOYMENT             int64\n",
       "CHANGE_PREVIOUS_EMPLOYMENT       int64\n",
       "NEW_CONCURRENT_EMPLOYMENT        int64\n",
       "CHANGE_EMPLOYER                  int64\n",
       "AMENDED_PETITION                 int64\n",
       "FULL_TIME_POSITION              object\n",
       "PREVAILING_WAGE                float64\n",
       "PW_UNIT_OF_PAY                  object\n",
       "PW_WAGE_LEVEL                   object\n",
       "PW_SOURCE                       object\n",
       "PW_SOURCE_YEAR                 float64\n",
       "PW_SOURCE_OTHER                 object\n",
       "WAGE_RATE_OF_PAY_FROM          float64\n",
       "WAGE_RATE_OF_PAY_TO            float64\n",
       "WAGE_UNIT_OF_PAY                object\n",
       "H1B_DEPENDENT                   object\n",
       "WILLFUL_VIOLATOR                object\n",
       "SUPPORT_H1B                     object\n",
       "LABOR_CON_AGREE                 object\n",
       "WORKSITE_STATE                  object\n",
       "WORKSITE_POSTAL_CODE            object\n",
       "DECISION_DURATION                int64\n",
       "EMPLOYMENT_DURATION              int64\n",
       "countvar                         int64\n",
       "dtype: object"
      ]
     },
     "execution_count": 63,
     "metadata": {},
     "output_type": "execute_result"
    }
   ],
   "source": [
    "df.dtypes"
   ]
  },
  {
   "cell_type": "code",
   "execution_count": 64,
   "metadata": {},
   "outputs": [
    {
     "data": {
      "application/vnd.plotly.v1+json": {
       "config": {
        "linkText": "Export to plot.ly",
        "plotlyServerURL": "https://plot.ly",
        "showLink": false
       },
       "data": [
        {
         "name": "top30employer",
         "type": "bar",
         "uid": "645539c5-bc33-4c5d-bd90-ed3c37349ac1",
         "x": [
          "INFOSYS LIMITED",
          "TATA CONSULTANCY SERVICES LIMITED",
          "CAPGEMINI AMERICA INC",
          "IBM INDIA PRIVATE LIMITED",
          "TECH MAHINDRA (AMERICAS),INC.",
          "DELOITTE CONSULTING LLP",
          "ACCENTURE LLP",
          "ERNST & YOUNG U.S. LLP",
          "WIPRO LIMITED",
          "GOOGLE INC.",
          "MICROSOFT CORPORATION",
          "HCL AMERICA, INC.",
          "SYNTEL CONSULTING INC.",
          "AMAZON CORPORATE LLC",
          "COGNIZANT TECHNOLOGY SOLUTIONS U.S. CORPORATION",
          "IBM CORPORATION",
          "LARSEN & TOUBRO INFOTECH LIMITED",
          "L&T TECHNOLOGY SERVICES LIMITED",
          "JPMORGAN CHASE & CO.",
          "PEOPLE TECH GROUP INC.",
          "FACEBOOK, INC.",
          "APPLE INC.",
          "PRICEWATERHOUSECOOPERS ADVISORY SERVICES LLC",
          "INTEL CORPORATION",
          "DELOITTE & TOUCHE LLP",
          "SYNTEL INC",
          "PRICEWATERHOUSECOOPERS LLP",
          "HEXAWARE TECHNOLOGIES, INC.",
          "KPMG LLP",
          "UST GLOBAL INC."
         ],
         "y": [
          20638,
          13526,
          9604,
          8734,
          7541,
          7179,
          6690,
          6096,
          5177,
          5074,
          5005,
          4262,
          4187,
          4165,
          2707,
          2546,
          1921,
          1842,
          1822,
          1766,
          1736,
          1710,
          1688,
          1543,
          1538,
          1403,
          1300,
          1258,
          1219,
          1197
         ]
        }
       ],
       "layout": {
        "title": {
         "text": "TOP EMPLOYERS SPONSORING H1B APPLICATIONS"
        },
        "yaxis": {
         "title": {
          "text": "Number of applications"
         }
        }
       }
      },
      "text/html": [
       "<div id=\"4d0306f8-1386-49eb-85e3-a055741d9c39\" style=\"height: 525px; width: 100%;\" class=\"plotly-graph-div\"></div><script type=\"text/javascript\">require([\"plotly\"], function(Plotly) { window.PLOTLYENV=window.PLOTLYENV || {};window.PLOTLYENV.BASE_URL=\"https://plot.ly\";\n",
       "if (document.getElementById(\"4d0306f8-1386-49eb-85e3-a055741d9c39\")) {\n",
       "    Plotly.newPlot(\"4d0306f8-1386-49eb-85e3-a055741d9c39\", [{\"name\": \"top30employer\", \"x\": [\"INFOSYS LIMITED\", \"TATA CONSULTANCY SERVICES LIMITED\", \"CAPGEMINI AMERICA INC\", \"IBM INDIA PRIVATE LIMITED\", \"TECH MAHINDRA (AMERICAS),INC.\", \"DELOITTE CONSULTING LLP\", \"ACCENTURE LLP\", \"ERNST & YOUNG U.S. LLP\", \"WIPRO LIMITED\", \"GOOGLE INC.\", \"MICROSOFT CORPORATION\", \"HCL AMERICA, INC.\", \"SYNTEL CONSULTING INC.\", \"AMAZON CORPORATE LLC\", \"COGNIZANT TECHNOLOGY SOLUTIONS U.S. CORPORATION\", \"IBM CORPORATION\", \"LARSEN & TOUBRO INFOTECH LIMITED\", \"L&T TECHNOLOGY SERVICES LIMITED\", \"JPMORGAN CHASE & CO.\", \"PEOPLE TECH GROUP INC.\", \"FACEBOOK, INC.\", \"APPLE INC.\", \"PRICEWATERHOUSECOOPERS ADVISORY SERVICES LLC\", \"INTEL CORPORATION\", \"DELOITTE & TOUCHE LLP\", \"SYNTEL INC\", \"PRICEWATERHOUSECOOPERS LLP\", \"HEXAWARE TECHNOLOGIES, INC.\", \"KPMG LLP\", \"UST GLOBAL INC.\"], \"y\": [20638, 13526, 9604, 8734, 7541, 7179, 6690, 6096, 5177, 5074, 5005, 4262, 4187, 4165, 2707, 2546, 1921, 1842, 1822, 1766, 1736, 1710, 1688, 1543, 1538, 1403, 1300, 1258, 1219, 1197], \"type\": \"bar\", \"uid\": \"645539c5-bc33-4c5d-bd90-ed3c37349ac1\"}], {\"title\": {\"text\": \"TOP EMPLOYERS SPONSORING H1B APPLICATIONS\"}, \"yaxis\": {\"title\": {\"text\": \"Number of applications\"}}}, {\"showLink\": false, \"linkText\": \"Export to plot.ly\", \"plotlyServerURL\": \"https://plot.ly\"}); \n",
       "}\n",
       "});</script><script type=\"text/javascript\">window.addEventListener(\"resize\", function(){if (document.getElementById(\"4d0306f8-1386-49eb-85e3-a055741d9c39\")) {window._Plotly.Plots.resize(document.getElementById(\"4d0306f8-1386-49eb-85e3-a055741d9c39\"));};})</script>"
      ],
      "text/vnd.plotly.v1+html": [
       "<div id=\"4d0306f8-1386-49eb-85e3-a055741d9c39\" style=\"height: 525px; width: 100%;\" class=\"plotly-graph-div\"></div><script type=\"text/javascript\">require([\"plotly\"], function(Plotly) { window.PLOTLYENV=window.PLOTLYENV || {};window.PLOTLYENV.BASE_URL=\"https://plot.ly\";\n",
       "if (document.getElementById(\"4d0306f8-1386-49eb-85e3-a055741d9c39\")) {\n",
       "    Plotly.newPlot(\"4d0306f8-1386-49eb-85e3-a055741d9c39\", [{\"name\": \"top30employer\", \"x\": [\"INFOSYS LIMITED\", \"TATA CONSULTANCY SERVICES LIMITED\", \"CAPGEMINI AMERICA INC\", \"IBM INDIA PRIVATE LIMITED\", \"TECH MAHINDRA (AMERICAS),INC.\", \"DELOITTE CONSULTING LLP\", \"ACCENTURE LLP\", \"ERNST & YOUNG U.S. LLP\", \"WIPRO LIMITED\", \"GOOGLE INC.\", \"MICROSOFT CORPORATION\", \"HCL AMERICA, INC.\", \"SYNTEL CONSULTING INC.\", \"AMAZON CORPORATE LLC\", \"COGNIZANT TECHNOLOGY SOLUTIONS U.S. CORPORATION\", \"IBM CORPORATION\", \"LARSEN & TOUBRO INFOTECH LIMITED\", \"L&T TECHNOLOGY SERVICES LIMITED\", \"JPMORGAN CHASE & CO.\", \"PEOPLE TECH GROUP INC.\", \"FACEBOOK, INC.\", \"APPLE INC.\", \"PRICEWATERHOUSECOOPERS ADVISORY SERVICES LLC\", \"INTEL CORPORATION\", \"DELOITTE & TOUCHE LLP\", \"SYNTEL INC\", \"PRICEWATERHOUSECOOPERS LLP\", \"HEXAWARE TECHNOLOGIES, INC.\", \"KPMG LLP\", \"UST GLOBAL INC.\"], \"y\": [20638, 13526, 9604, 8734, 7541, 7179, 6690, 6096, 5177, 5074, 5005, 4262, 4187, 4165, 2707, 2546, 1921, 1842, 1822, 1766, 1736, 1710, 1688, 1543, 1538, 1403, 1300, 1258, 1219, 1197], \"type\": \"bar\", \"uid\": \"645539c5-bc33-4c5d-bd90-ed3c37349ac1\"}], {\"title\": {\"text\": \"TOP EMPLOYERS SPONSORING H1B APPLICATIONS\"}, \"yaxis\": {\"title\": {\"text\": \"Number of applications\"}}}, {\"showLink\": false, \"linkText\": \"Export to plot.ly\", \"plotlyServerURL\": \"https://plot.ly\"}); \n",
       "}\n",
       "});</script><script type=\"text/javascript\">window.addEventListener(\"resize\", function(){if (document.getElementById(\"4d0306f8-1386-49eb-85e3-a055741d9c39\")) {window._Plotly.Plots.resize(document.getElementById(\"4d0306f8-1386-49eb-85e3-a055741d9c39\"));};})</script>"
      ]
     },
     "metadata": {},
     "output_type": "display_data"
    }
   ],
   "source": [
    "df['countvar'] = 1\n",
    "dftop = df.groupby('EMPLOYER_NAME',as_index=False).count().sort_values('countvar',ascending= False)[['EMPLOYER_NAME','countvar']][0:30]\n",
    "t1 = go.Bar(x=dftop.EMPLOYER_NAME.values,y=dftop.countvar.values,name='top30employer')\n",
    "layout = go.Layout(dict(title= \"TOP EMPLOYERS SPONSORING H1B APPLICATIONS\",yaxis=dict(title=\"Number of applications\")))\n",
    "data = [t1]\n",
    "fig =go.Figure(data,layout)\n",
    "iplot(fig)"
   ]
  },
  {
   "cell_type": "code",
   "execution_count": 65,
   "metadata": {},
   "outputs": [
    {
     "data": {
      "application/vnd.plotly.v1+json": {
       "config": {
        "linkText": "Export to plot.ly",
        "plotlyServerURL": "https://plot.ly",
        "showLink": false
       },
       "data": [
        {
         "name": "top30employerstate",
         "type": "bar",
         "uid": "ff28f5e5-fe18-4dc1-87c5-dc1cac27d82c",
         "x": [
          "CA",
          "TX",
          "NJ",
          "NY",
          "IL",
          "MI",
          "PA",
          "MA",
          "MD",
          "WA",
          "VA",
          "FL",
          "NC",
          "GA",
          "OH",
          "CT",
          "MO",
          "MN",
          "TN",
          "AZ",
          "CO",
          "WI",
          "IN",
          "KY",
          "DE",
          "AR",
          "UT",
          "DC",
          "IA",
          "KS"
         ],
         "y": [
          105683,
          87654,
          76051,
          44090,
          41291,
          27317,
          25564,
          23379,
          21387,
          20785,
          19372,
          19369,
          18627,
          16869,
          9458,
          5983,
          5307,
          4753,
          4628,
          4165,
          4056,
          3564,
          2904,
          2481,
          2428,
          2190,
          2116,
          2089,
          2056,
          1887
         ]
        }
       ],
       "layout": {
        "title": {
         "text": "TOP STATES BY NUMBER OF H1B APPLICATIONS"
        },
        "yaxis": {
         "title": {
          "text": "Number of applications"
         }
        }
       }
      },
      "text/html": [
       "<div id=\"dfa281b3-bd8f-425b-be55-b17e8c4c055c\" style=\"height: 525px; width: 100%;\" class=\"plotly-graph-div\"></div><script type=\"text/javascript\">require([\"plotly\"], function(Plotly) { window.PLOTLYENV=window.PLOTLYENV || {};window.PLOTLYENV.BASE_URL=\"https://plot.ly\";\n",
       "if (document.getElementById(\"dfa281b3-bd8f-425b-be55-b17e8c4c055c\")) {\n",
       "    Plotly.newPlot(\"dfa281b3-bd8f-425b-be55-b17e8c4c055c\", [{\"name\": \"top30employerstate\", \"x\": [\"CA\", \"TX\", \"NJ\", \"NY\", \"IL\", \"MI\", \"PA\", \"MA\", \"MD\", \"WA\", \"VA\", \"FL\", \"NC\", \"GA\", \"OH\", \"CT\", \"MO\", \"MN\", \"TN\", \"AZ\", \"CO\", \"WI\", \"IN\", \"KY\", \"DE\", \"AR\", \"UT\", \"DC\", \"IA\", \"KS\"], \"y\": [105683, 87654, 76051, 44090, 41291, 27317, 25564, 23379, 21387, 20785, 19372, 19369, 18627, 16869, 9458, 5983, 5307, 4753, 4628, 4165, 4056, 3564, 2904, 2481, 2428, 2190, 2116, 2089, 2056, 1887], \"type\": \"bar\", \"uid\": \"ff28f5e5-fe18-4dc1-87c5-dc1cac27d82c\"}], {\"title\": {\"text\": \"TOP STATES BY NUMBER OF H1B APPLICATIONS\"}, \"yaxis\": {\"title\": {\"text\": \"Number of applications\"}}}, {\"showLink\": false, \"linkText\": \"Export to plot.ly\", \"plotlyServerURL\": \"https://plot.ly\"}); \n",
       "}\n",
       "});</script><script type=\"text/javascript\">window.addEventListener(\"resize\", function(){if (document.getElementById(\"dfa281b3-bd8f-425b-be55-b17e8c4c055c\")) {window._Plotly.Plots.resize(document.getElementById(\"dfa281b3-bd8f-425b-be55-b17e8c4c055c\"));};})</script>"
      ],
      "text/vnd.plotly.v1+html": [
       "<div id=\"dfa281b3-bd8f-425b-be55-b17e8c4c055c\" style=\"height: 525px; width: 100%;\" class=\"plotly-graph-div\"></div><script type=\"text/javascript\">require([\"plotly\"], function(Plotly) { window.PLOTLYENV=window.PLOTLYENV || {};window.PLOTLYENV.BASE_URL=\"https://plot.ly\";\n",
       "if (document.getElementById(\"dfa281b3-bd8f-425b-be55-b17e8c4c055c\")) {\n",
       "    Plotly.newPlot(\"dfa281b3-bd8f-425b-be55-b17e8c4c055c\", [{\"name\": \"top30employerstate\", \"x\": [\"CA\", \"TX\", \"NJ\", \"NY\", \"IL\", \"MI\", \"PA\", \"MA\", \"MD\", \"WA\", \"VA\", \"FL\", \"NC\", \"GA\", \"OH\", \"CT\", \"MO\", \"MN\", \"TN\", \"AZ\", \"CO\", \"WI\", \"IN\", \"KY\", \"DE\", \"AR\", \"UT\", \"DC\", \"IA\", \"KS\"], \"y\": [105683, 87654, 76051, 44090, 41291, 27317, 25564, 23379, 21387, 20785, 19372, 19369, 18627, 16869, 9458, 5983, 5307, 4753, 4628, 4165, 4056, 3564, 2904, 2481, 2428, 2190, 2116, 2089, 2056, 1887], \"type\": \"bar\", \"uid\": \"ff28f5e5-fe18-4dc1-87c5-dc1cac27d82c\"}], {\"title\": {\"text\": \"TOP STATES BY NUMBER OF H1B APPLICATIONS\"}, \"yaxis\": {\"title\": {\"text\": \"Number of applications\"}}}, {\"showLink\": false, \"linkText\": \"Export to plot.ly\", \"plotlyServerURL\": \"https://plot.ly\"}); \n",
       "}\n",
       "});</script><script type=\"text/javascript\">window.addEventListener(\"resize\", function(){if (document.getElementById(\"dfa281b3-bd8f-425b-be55-b17e8c4c055c\")) {window._Plotly.Plots.resize(document.getElementById(\"dfa281b3-bd8f-425b-be55-b17e8c4c055c\"));};})</script>"
      ]
     },
     "metadata": {},
     "output_type": "display_data"
    }
   ],
   "source": [
    "dftop = df.groupby('EMPLOYER_STATE',as_index=False).count().sort_values('countvar',ascending= False)[['EMPLOYER_STATE','countvar']][0:30]\n",
    "t1 = go.Bar(x=dftop.EMPLOYER_STATE.values,y=dftop.countvar.values,name='top30employerstate')\n",
    "layout = go.Layout(dict(title= \"TOP STATES BY NUMBER OF H1B APPLICATIONS\",yaxis=dict(title=\"Number of applications\")))\n",
    "data = [t1]\n",
    "fig =go.Figure(data,layout)\n",
    "iplot(fig)"
   ]
  },
  {
   "cell_type": "code",
   "execution_count": 66,
   "metadata": {},
   "outputs": [
    {
     "data": {
      "application/vnd.plotly.v1+json": {
       "config": {
        "linkText": "Export to plot.ly",
        "plotlyServerURL": "https://plot.ly",
        "showLink": false
       },
       "data": [
        {
         "name": "top30",
         "type": "bar",
         "uid": "6ede1f11-69fa-4a48-947a-f507592ddc10",
         "x": [
          "CERTIFIED",
          "CERTIFIED-WITHDRAWN",
          "WITHDRAWN",
          "DENIED"
         ],
         "y": [
          545672,
          49701,
          20759,
          8412
         ]
        }
       ],
       "layout": {
        "title": {
         "text": "NUMBER OF APPLICATIONS BY CASE STATUS "
        },
        "yaxis": {
         "title": {
          "text": "Number of applications"
         }
        }
       }
      },
      "text/html": [
       "<div id=\"319c783f-80cc-423f-bd5c-894651802a84\" style=\"height: 525px; width: 100%;\" class=\"plotly-graph-div\"></div><script type=\"text/javascript\">require([\"plotly\"], function(Plotly) { window.PLOTLYENV=window.PLOTLYENV || {};window.PLOTLYENV.BASE_URL=\"https://plot.ly\";\n",
       "if (document.getElementById(\"319c783f-80cc-423f-bd5c-894651802a84\")) {\n",
       "    Plotly.newPlot(\"319c783f-80cc-423f-bd5c-894651802a84\", [{\"name\": \"top30\", \"x\": [\"CERTIFIED\", \"CERTIFIED-WITHDRAWN\", \"WITHDRAWN\", \"DENIED\"], \"y\": [545672, 49701, 20759, 8412], \"type\": \"bar\", \"uid\": \"6ede1f11-69fa-4a48-947a-f507592ddc10\"}], {\"title\": {\"text\": \"NUMBER OF APPLICATIONS BY CASE STATUS \"}, \"yaxis\": {\"title\": {\"text\": \"Number of applications\"}}}, {\"showLink\": false, \"linkText\": \"Export to plot.ly\", \"plotlyServerURL\": \"https://plot.ly\"}); \n",
       "}\n",
       "});</script><script type=\"text/javascript\">window.addEventListener(\"resize\", function(){if (document.getElementById(\"319c783f-80cc-423f-bd5c-894651802a84\")) {window._Plotly.Plots.resize(document.getElementById(\"319c783f-80cc-423f-bd5c-894651802a84\"));};})</script>"
      ],
      "text/vnd.plotly.v1+html": [
       "<div id=\"319c783f-80cc-423f-bd5c-894651802a84\" style=\"height: 525px; width: 100%;\" class=\"plotly-graph-div\"></div><script type=\"text/javascript\">require([\"plotly\"], function(Plotly) { window.PLOTLYENV=window.PLOTLYENV || {};window.PLOTLYENV.BASE_URL=\"https://plot.ly\";\n",
       "if (document.getElementById(\"319c783f-80cc-423f-bd5c-894651802a84\")) {\n",
       "    Plotly.newPlot(\"319c783f-80cc-423f-bd5c-894651802a84\", [{\"name\": \"top30\", \"x\": [\"CERTIFIED\", \"CERTIFIED-WITHDRAWN\", \"WITHDRAWN\", \"DENIED\"], \"y\": [545672, 49701, 20759, 8412], \"type\": \"bar\", \"uid\": \"6ede1f11-69fa-4a48-947a-f507592ddc10\"}], {\"title\": {\"text\": \"NUMBER OF APPLICATIONS BY CASE STATUS \"}, \"yaxis\": {\"title\": {\"text\": \"Number of applications\"}}}, {\"showLink\": false, \"linkText\": \"Export to plot.ly\", \"plotlyServerURL\": \"https://plot.ly\"}); \n",
       "}\n",
       "});</script><script type=\"text/javascript\">window.addEventListener(\"resize\", function(){if (document.getElementById(\"319c783f-80cc-423f-bd5c-894651802a84\")) {window._Plotly.Plots.resize(document.getElementById(\"319c783f-80cc-423f-bd5c-894651802a84\"));};})</script>"
      ]
     },
     "metadata": {},
     "output_type": "display_data"
    }
   ],
   "source": [
    "dftop = df.groupby('CASE_STATUS',as_index=False).count().sort_values('countvar',ascending= False)[['CASE_STATUS','countvar']]\n",
    "t1 = go.Bar(x=dftop.CASE_STATUS.values,y=dftop.countvar.values,name='top30')\n",
    "layout = go.Layout(dict(title= \"NUMBER OF APPLICATIONS BY CASE STATUS \",yaxis=dict(title=\"Number of applications\")))\n",
    "data = [t1]\n",
    "fig =go.Figure(data,layout)\n",
    "iplot(fig)"
   ]
  },
  {
   "cell_type": "code",
   "execution_count": 67,
   "metadata": {},
   "outputs": [
    {
     "data": {
      "application/vnd.plotly.v1+json": {
       "config": {
        "linkText": "Export to plot.ly",
        "plotlyServerURL": "https://plot.ly",
        "showLink": false
       },
       "data": [
        {
         "name": "top30",
         "type": "bar",
         "uid": "f1dc7e4c-1b25-4f2c-b04d-78f135704e5e",
         "x": [
          "CERTIFIED",
          "CERTIFIED-WITHDRAWN",
          "WITHDRAWN",
          "DENIED"
         ],
         "y": [
          91286,
          9127,
          3615,
          1655
         ]
        }
       ],
       "layout": {
        "title": {
         "text": "NUMBER OF APPLICATIONS IN <b>CALIFORNIA</b> BY CASE STATUS "
        },
        "yaxis": {
         "title": {
          "text": "Number of applications"
         }
        }
       }
      },
      "text/html": [
       "<div id=\"f3a06ad3-ed07-4c10-b030-a3a30b40efb0\" style=\"height: 525px; width: 100%;\" class=\"plotly-graph-div\"></div><script type=\"text/javascript\">require([\"plotly\"], function(Plotly) { window.PLOTLYENV=window.PLOTLYENV || {};window.PLOTLYENV.BASE_URL=\"https://plot.ly\";\n",
       "if (document.getElementById(\"f3a06ad3-ed07-4c10-b030-a3a30b40efb0\")) {\n",
       "    Plotly.newPlot(\"f3a06ad3-ed07-4c10-b030-a3a30b40efb0\", [{\"name\": \"top30\", \"x\": [\"CERTIFIED\", \"CERTIFIED-WITHDRAWN\", \"WITHDRAWN\", \"DENIED\"], \"y\": [91286, 9127, 3615, 1655], \"type\": \"bar\", \"uid\": \"f1dc7e4c-1b25-4f2c-b04d-78f135704e5e\"}], {\"title\": {\"text\": \"NUMBER OF APPLICATIONS IN <b>CALIFORNIA</b> BY CASE STATUS \"}, \"yaxis\": {\"title\": {\"text\": \"Number of applications\"}}}, {\"showLink\": false, \"linkText\": \"Export to plot.ly\", \"plotlyServerURL\": \"https://plot.ly\"}); \n",
       "}\n",
       "});</script><script type=\"text/javascript\">window.addEventListener(\"resize\", function(){if (document.getElementById(\"f3a06ad3-ed07-4c10-b030-a3a30b40efb0\")) {window._Plotly.Plots.resize(document.getElementById(\"f3a06ad3-ed07-4c10-b030-a3a30b40efb0\"));};})</script>"
      ],
      "text/vnd.plotly.v1+html": [
       "<div id=\"f3a06ad3-ed07-4c10-b030-a3a30b40efb0\" style=\"height: 525px; width: 100%;\" class=\"plotly-graph-div\"></div><script type=\"text/javascript\">require([\"plotly\"], function(Plotly) { window.PLOTLYENV=window.PLOTLYENV || {};window.PLOTLYENV.BASE_URL=\"https://plot.ly\";\n",
       "if (document.getElementById(\"f3a06ad3-ed07-4c10-b030-a3a30b40efb0\")) {\n",
       "    Plotly.newPlot(\"f3a06ad3-ed07-4c10-b030-a3a30b40efb0\", [{\"name\": \"top30\", \"x\": [\"CERTIFIED\", \"CERTIFIED-WITHDRAWN\", \"WITHDRAWN\", \"DENIED\"], \"y\": [91286, 9127, 3615, 1655], \"type\": \"bar\", \"uid\": \"f1dc7e4c-1b25-4f2c-b04d-78f135704e5e\"}], {\"title\": {\"text\": \"NUMBER OF APPLICATIONS IN <b>CALIFORNIA</b> BY CASE STATUS \"}, \"yaxis\": {\"title\": {\"text\": \"Number of applications\"}}}, {\"showLink\": false, \"linkText\": \"Export to plot.ly\", \"plotlyServerURL\": \"https://plot.ly\"}); \n",
       "}\n",
       "});</script><script type=\"text/javascript\">window.addEventListener(\"resize\", function(){if (document.getElementById(\"f3a06ad3-ed07-4c10-b030-a3a30b40efb0\")) {window._Plotly.Plots.resize(document.getElementById(\"f3a06ad3-ed07-4c10-b030-a3a30b40efb0\"));};})</script>"
      ]
     },
     "metadata": {},
     "output_type": "display_data"
    },
    {
     "data": {
      "application/vnd.plotly.v1+json": {
       "config": {
        "linkText": "Export to plot.ly",
        "plotlyServerURL": "https://plot.ly",
        "showLink": false
       },
       "data": [
        {
         "name": "top30",
         "type": "bar",
         "uid": "c2c18c8e-8480-4fc8-b45e-10b42a0c75ff",
         "x": [
          "CERTIFIED",
          "CERTIFIED-WITHDRAWN",
          "WITHDRAWN",
          "DENIED"
         ],
         "y": [
          78643,
          6148,
          2138,
          725
         ]
        }
       ],
       "layout": {
        "title": {
         "text": "NUMBER OF APPLICATIONS IN <b>Texas</b> BY CASE STATUS "
        },
        "yaxis": {
         "title": {
          "text": "Number of applications"
         }
        }
       }
      },
      "text/html": [
       "<div id=\"4b4ae515-b6df-4874-8efe-b5dc03c44b84\" style=\"height: 525px; width: 100%;\" class=\"plotly-graph-div\"></div><script type=\"text/javascript\">require([\"plotly\"], function(Plotly) { window.PLOTLYENV=window.PLOTLYENV || {};window.PLOTLYENV.BASE_URL=\"https://plot.ly\";\n",
       "if (document.getElementById(\"4b4ae515-b6df-4874-8efe-b5dc03c44b84\")) {\n",
       "    Plotly.newPlot(\"4b4ae515-b6df-4874-8efe-b5dc03c44b84\", [{\"name\": \"top30\", \"x\": [\"CERTIFIED\", \"CERTIFIED-WITHDRAWN\", \"WITHDRAWN\", \"DENIED\"], \"y\": [78643, 6148, 2138, 725], \"type\": \"bar\", \"uid\": \"c2c18c8e-8480-4fc8-b45e-10b42a0c75ff\"}], {\"title\": {\"text\": \"NUMBER OF APPLICATIONS IN <b>Texas</b> BY CASE STATUS \"}, \"yaxis\": {\"title\": {\"text\": \"Number of applications\"}}}, {\"showLink\": false, \"linkText\": \"Export to plot.ly\", \"plotlyServerURL\": \"https://plot.ly\"}); \n",
       "}\n",
       "});</script><script type=\"text/javascript\">window.addEventListener(\"resize\", function(){if (document.getElementById(\"4b4ae515-b6df-4874-8efe-b5dc03c44b84\")) {window._Plotly.Plots.resize(document.getElementById(\"4b4ae515-b6df-4874-8efe-b5dc03c44b84\"));};})</script>"
      ],
      "text/vnd.plotly.v1+html": [
       "<div id=\"4b4ae515-b6df-4874-8efe-b5dc03c44b84\" style=\"height: 525px; width: 100%;\" class=\"plotly-graph-div\"></div><script type=\"text/javascript\">require([\"plotly\"], function(Plotly) { window.PLOTLYENV=window.PLOTLYENV || {};window.PLOTLYENV.BASE_URL=\"https://plot.ly\";\n",
       "if (document.getElementById(\"4b4ae515-b6df-4874-8efe-b5dc03c44b84\")) {\n",
       "    Plotly.newPlot(\"4b4ae515-b6df-4874-8efe-b5dc03c44b84\", [{\"name\": \"top30\", \"x\": [\"CERTIFIED\", \"CERTIFIED-WITHDRAWN\", \"WITHDRAWN\", \"DENIED\"], \"y\": [78643, 6148, 2138, 725], \"type\": \"bar\", \"uid\": \"c2c18c8e-8480-4fc8-b45e-10b42a0c75ff\"}], {\"title\": {\"text\": \"NUMBER OF APPLICATIONS IN <b>Texas</b> BY CASE STATUS \"}, \"yaxis\": {\"title\": {\"text\": \"Number of applications\"}}}, {\"showLink\": false, \"linkText\": \"Export to plot.ly\", \"plotlyServerURL\": \"https://plot.ly\"}); \n",
       "}\n",
       "});</script><script type=\"text/javascript\">window.addEventListener(\"resize\", function(){if (document.getElementById(\"4b4ae515-b6df-4874-8efe-b5dc03c44b84\")) {window._Plotly.Plots.resize(document.getElementById(\"4b4ae515-b6df-4874-8efe-b5dc03c44b84\"));};})</script>"
      ]
     },
     "metadata": {},
     "output_type": "display_data"
    },
    {
     "data": {
      "application/vnd.plotly.v1+json": {
       "config": {
        "linkText": "Export to plot.ly",
        "plotlyServerURL": "https://plot.ly",
        "showLink": false
       },
       "data": [
        {
         "name": "top30",
         "type": "bar",
         "uid": "c76bce18-b63e-4003-b73f-44bed3353e03",
         "x": [
          "CERTIFIED",
          "CERTIFIED-WITHDRAWN",
          "WITHDRAWN",
          "DENIED"
         ],
         "y": [
          67430,
          5605,
          2365,
          651
         ]
        }
       ],
       "layout": {
        "title": {
         "text": "NUMBER OF APPLICATIONS IN <b>New Jersey</b> BY CASE STATUS "
        },
        "yaxis": {
         "title": {
          "text": "Number of applications"
         }
        }
       }
      },
      "text/html": [
       "<div id=\"a8d31a34-5509-471a-94df-3e5241a4b121\" style=\"height: 525px; width: 100%;\" class=\"plotly-graph-div\"></div><script type=\"text/javascript\">require([\"plotly\"], function(Plotly) { window.PLOTLYENV=window.PLOTLYENV || {};window.PLOTLYENV.BASE_URL=\"https://plot.ly\";\n",
       "if (document.getElementById(\"a8d31a34-5509-471a-94df-3e5241a4b121\")) {\n",
       "    Plotly.newPlot(\"a8d31a34-5509-471a-94df-3e5241a4b121\", [{\"name\": \"top30\", \"x\": [\"CERTIFIED\", \"CERTIFIED-WITHDRAWN\", \"WITHDRAWN\", \"DENIED\"], \"y\": [67430, 5605, 2365, 651], \"type\": \"bar\", \"uid\": \"c76bce18-b63e-4003-b73f-44bed3353e03\"}], {\"title\": {\"text\": \"NUMBER OF APPLICATIONS IN <b>New Jersey</b> BY CASE STATUS \"}, \"yaxis\": {\"title\": {\"text\": \"Number of applications\"}}}, {\"showLink\": false, \"linkText\": \"Export to plot.ly\", \"plotlyServerURL\": \"https://plot.ly\"}); \n",
       "}\n",
       "});</script><script type=\"text/javascript\">window.addEventListener(\"resize\", function(){if (document.getElementById(\"a8d31a34-5509-471a-94df-3e5241a4b121\")) {window._Plotly.Plots.resize(document.getElementById(\"a8d31a34-5509-471a-94df-3e5241a4b121\"));};})</script>"
      ],
      "text/vnd.plotly.v1+html": [
       "<div id=\"a8d31a34-5509-471a-94df-3e5241a4b121\" style=\"height: 525px; width: 100%;\" class=\"plotly-graph-div\"></div><script type=\"text/javascript\">require([\"plotly\"], function(Plotly) { window.PLOTLYENV=window.PLOTLYENV || {};window.PLOTLYENV.BASE_URL=\"https://plot.ly\";\n",
       "if (document.getElementById(\"a8d31a34-5509-471a-94df-3e5241a4b121\")) {\n",
       "    Plotly.newPlot(\"a8d31a34-5509-471a-94df-3e5241a4b121\", [{\"name\": \"top30\", \"x\": [\"CERTIFIED\", \"CERTIFIED-WITHDRAWN\", \"WITHDRAWN\", \"DENIED\"], \"y\": [67430, 5605, 2365, 651], \"type\": \"bar\", \"uid\": \"c76bce18-b63e-4003-b73f-44bed3353e03\"}], {\"title\": {\"text\": \"NUMBER OF APPLICATIONS IN <b>New Jersey</b> BY CASE STATUS \"}, \"yaxis\": {\"title\": {\"text\": \"Number of applications\"}}}, {\"showLink\": false, \"linkText\": \"Export to plot.ly\", \"plotlyServerURL\": \"https://plot.ly\"}); \n",
       "}\n",
       "});</script><script type=\"text/javascript\">window.addEventListener(\"resize\", function(){if (document.getElementById(\"a8d31a34-5509-471a-94df-3e5241a4b121\")) {window._Plotly.Plots.resize(document.getElementById(\"a8d31a34-5509-471a-94df-3e5241a4b121\"));};})</script>"
      ]
     },
     "metadata": {},
     "output_type": "display_data"
    },
    {
     "data": {
      "application/vnd.plotly.v1+json": {
       "config": {
        "linkText": "Export to plot.ly",
        "plotlyServerURL": "https://plot.ly",
        "showLink": false
       },
       "data": [
        {
         "name": "top30",
         "type": "bar",
         "uid": "f3109961-f51e-4676-9efb-f472bf06eef0",
         "x": [
          "CERTIFIED",
          "CERTIFIED-WITHDRAWN",
          "WITHDRAWN",
          "DENIED"
         ],
         "y": [
          37852,
          3760,
          1490,
          988
         ]
        }
       ],
       "layout": {
        "title": {
         "text": "NUMBER OF APPLICATIONS IN <b>New York</b> BY CASE STATUS "
        },
        "yaxis": {
         "title": {
          "text": "Number of applications"
         }
        }
       }
      },
      "text/html": [
       "<div id=\"3383a33e-9891-44f7-9601-10fe7dcc7e62\" style=\"height: 525px; width: 100%;\" class=\"plotly-graph-div\"></div><script type=\"text/javascript\">require([\"plotly\"], function(Plotly) { window.PLOTLYENV=window.PLOTLYENV || {};window.PLOTLYENV.BASE_URL=\"https://plot.ly\";\n",
       "if (document.getElementById(\"3383a33e-9891-44f7-9601-10fe7dcc7e62\")) {\n",
       "    Plotly.newPlot(\"3383a33e-9891-44f7-9601-10fe7dcc7e62\", [{\"name\": \"top30\", \"x\": [\"CERTIFIED\", \"CERTIFIED-WITHDRAWN\", \"WITHDRAWN\", \"DENIED\"], \"y\": [37852, 3760, 1490, 988], \"type\": \"bar\", \"uid\": \"f3109961-f51e-4676-9efb-f472bf06eef0\"}], {\"title\": {\"text\": \"NUMBER OF APPLICATIONS IN <b>New York</b> BY CASE STATUS \"}, \"yaxis\": {\"title\": {\"text\": \"Number of applications\"}}}, {\"showLink\": false, \"linkText\": \"Export to plot.ly\", \"plotlyServerURL\": \"https://plot.ly\"}); \n",
       "}\n",
       "});</script><script type=\"text/javascript\">window.addEventListener(\"resize\", function(){if (document.getElementById(\"3383a33e-9891-44f7-9601-10fe7dcc7e62\")) {window._Plotly.Plots.resize(document.getElementById(\"3383a33e-9891-44f7-9601-10fe7dcc7e62\"));};})</script>"
      ],
      "text/vnd.plotly.v1+html": [
       "<div id=\"3383a33e-9891-44f7-9601-10fe7dcc7e62\" style=\"height: 525px; width: 100%;\" class=\"plotly-graph-div\"></div><script type=\"text/javascript\">require([\"plotly\"], function(Plotly) { window.PLOTLYENV=window.PLOTLYENV || {};window.PLOTLYENV.BASE_URL=\"https://plot.ly\";\n",
       "if (document.getElementById(\"3383a33e-9891-44f7-9601-10fe7dcc7e62\")) {\n",
       "    Plotly.newPlot(\"3383a33e-9891-44f7-9601-10fe7dcc7e62\", [{\"name\": \"top30\", \"x\": [\"CERTIFIED\", \"CERTIFIED-WITHDRAWN\", \"WITHDRAWN\", \"DENIED\"], \"y\": [37852, 3760, 1490, 988], \"type\": \"bar\", \"uid\": \"f3109961-f51e-4676-9efb-f472bf06eef0\"}], {\"title\": {\"text\": \"NUMBER OF APPLICATIONS IN <b>New York</b> BY CASE STATUS \"}, \"yaxis\": {\"title\": {\"text\": \"Number of applications\"}}}, {\"showLink\": false, \"linkText\": \"Export to plot.ly\", \"plotlyServerURL\": \"https://plot.ly\"}); \n",
       "}\n",
       "});</script><script type=\"text/javascript\">window.addEventListener(\"resize\", function(){if (document.getElementById(\"3383a33e-9891-44f7-9601-10fe7dcc7e62\")) {window._Plotly.Plots.resize(document.getElementById(\"3383a33e-9891-44f7-9601-10fe7dcc7e62\"));};})</script>"
      ]
     },
     "metadata": {},
     "output_type": "display_data"
    }
   ],
   "source": [
    "# Number of applications State wise by case status.\n",
    "\n",
    "# California - CA\n",
    "dftop = df[df.EMPLOYER_STATE=='CA'].groupby('CASE_STATUS',as_index=False).count().sort_values('countvar',ascending= False)[['CASE_STATUS','countvar']]\n",
    "t1 = go.Bar(x=dftop.CASE_STATUS.values,y=dftop.countvar.values,name='top30')\n",
    "layout = go.Layout(dict(title= \"NUMBER OF APPLICATIONS IN <b>CALIFORNIA</b> BY CASE STATUS \",yaxis=dict(title=\"Number of applications\")))\n",
    "data = [t1]\n",
    "fig =go.Figure(data,layout)\n",
    "ca = iplot(fig)\n",
    "\n",
    "# Texas - TX\n",
    "dftop = df[df.EMPLOYER_STATE=='TX'].groupby('CASE_STATUS',as_index=False).count().sort_values('countvar',ascending= False)[['CASE_STATUS','countvar']]\n",
    "t1 = go.Bar(x=dftop.CASE_STATUS.values,y=dftop.countvar.values,name='top30')\n",
    "layout = go.Layout(dict(title= \"NUMBER OF APPLICATIONS IN <b>Texas</b> BY CASE STATUS \",yaxis=dict(title=\"Number of applications\")))\n",
    "data = [t1]\n",
    "fig =go.Figure(data,layout)\n",
    "tx = iplot(fig)\n",
    "\n",
    "# New Jersey - NJ\n",
    "dftop = df[df.EMPLOYER_STATE=='NJ'].groupby('CASE_STATUS',as_index=False).count().sort_values('countvar',ascending= False)[['CASE_STATUS','countvar']]\n",
    "t1 = go.Bar(x=dftop.CASE_STATUS.values,y=dftop.countvar.values,name='top30')\n",
    "layout = go.Layout(dict(title= \"NUMBER OF APPLICATIONS IN <b>New Jersey</b> BY CASE STATUS \",yaxis=dict(title=\"Number of applications\")))\n",
    "data = [t1]\n",
    "fig =go.Figure(data,layout)\n",
    "nj = iplot(fig)\n",
    "\n",
    "# New York - NY\n",
    "dftop = df[df.EMPLOYER_STATE=='NY'].groupby('CASE_STATUS',as_index=False).count().sort_values('countvar',ascending= False)[['CASE_STATUS','countvar']]\n",
    "t1 = go.Bar(x=dftop.CASE_STATUS.values,y=dftop.countvar.values,name='top30')\n",
    "layout = go.Layout(dict(title= \"NUMBER OF APPLICATIONS IN <b>New York</b> BY CASE STATUS \",yaxis=dict(title=\"Number of applications\")))\n",
    "data = [t1]\n",
    "fig =go.Figure(data,layout)\n",
    "ny = iplot(fig)"
   ]
  },
  {
   "cell_type": "code",
   "execution_count": 68,
   "metadata": {
    "collapsed": true
   },
   "outputs": [],
   "source": [
    "# Univariate Analysis\n",
    "numerical = df.select_dtypes(include=np.number)\n",
    "categorical = df.select_dtypes(exclude=np.number)"
   ]
  },
  {
   "cell_type": "code",
   "execution_count": 69,
   "metadata": {},
   "outputs": [
    {
     "data": {
      "text/plain": [
       "(624544, 14)"
      ]
     },
     "execution_count": 69,
     "metadata": {},
     "output_type": "execute_result"
    }
   ],
   "source": [
    "numerical.shape"
   ]
  },
  {
   "cell_type": "code",
   "execution_count": 75,
   "metadata": {},
   "outputs": [
    {
     "data": {
      "application/vnd.plotly.v1+json": {
       "config": {
        "linkText": "Export to plot.ly",
        "plotlyServerURL": "https://plot.ly",
        "showLink": false
       },
       "data": [
        {
         "name": "Employers with Agent",
         "type": "bar",
         "uid": "b1135323-7c40-42aa-a375-45dc1d42cb48",
         "x": [
          "CERTIFIED",
          "CERTIFIED-WITHDRAWN",
          "WITHDRAWN",
          "DENIED"
         ],
         "y": [
          312967,
          23065,
          11267,
          4017
         ]
        },
        {
         "name": "Employers without Agent",
         "type": "bar",
         "uid": "a34acb41-b54a-4c6f-bbc1-481e8cebbc1e",
         "x": [
          "CERTIFIED",
          "CERTIFIED-WITHDRAWN",
          "WITHDRAWN",
          "DENIED"
         ],
         "y": [
          148221,
          20329,
          5278,
          2911
         ]
        }
       ],
       "layout": {
        "title": {
         "text": "NUMBER OF APPLICATIONS WITH/WITHOUT <b>AGENT</b> BY CASE STATUS "
        },
        "yaxis": {
         "title": {
          "text": "Number of applications"
         }
        }
       }
      },
      "text/html": [
       "<div id=\"7a89d58e-192b-48cf-b95c-c33001df8b16\" style=\"height: 525px; width: 100%;\" class=\"plotly-graph-div\"></div><script type=\"text/javascript\">require([\"plotly\"], function(Plotly) { window.PLOTLYENV=window.PLOTLYENV || {};window.PLOTLYENV.BASE_URL=\"https://plot.ly\";\n",
       "if (document.getElementById(\"7a89d58e-192b-48cf-b95c-c33001df8b16\")) {\n",
       "    Plotly.newPlot(\"7a89d58e-192b-48cf-b95c-c33001df8b16\", [{\"name\": \"Employers with Agent\", \"x\": [\"CERTIFIED\", \"CERTIFIED-WITHDRAWN\", \"WITHDRAWN\", \"DENIED\"], \"y\": [312967, 23065, 11267, 4017], \"type\": \"bar\", \"uid\": \"b1135323-7c40-42aa-a375-45dc1d42cb48\"}, {\"name\": \"Employers without Agent\", \"x\": [\"CERTIFIED\", \"CERTIFIED-WITHDRAWN\", \"WITHDRAWN\", \"DENIED\"], \"y\": [148221, 20329, 5278, 2911], \"type\": \"bar\", \"uid\": \"a34acb41-b54a-4c6f-bbc1-481e8cebbc1e\"}], {\"title\": {\"text\": \"NUMBER OF APPLICATIONS WITH/WITHOUT <b>AGENT</b> BY CASE STATUS \"}, \"yaxis\": {\"title\": {\"text\": \"Number of applications\"}}}, {\"showLink\": false, \"linkText\": \"Export to plot.ly\", \"plotlyServerURL\": \"https://plot.ly\"}); \n",
       "}\n",
       "});</script><script type=\"text/javascript\">window.addEventListener(\"resize\", function(){if (document.getElementById(\"7a89d58e-192b-48cf-b95c-c33001df8b16\")) {window._Plotly.Plots.resize(document.getElementById(\"7a89d58e-192b-48cf-b95c-c33001df8b16\"));};})</script>"
      ],
      "text/vnd.plotly.v1+html": [
       "<div id=\"7a89d58e-192b-48cf-b95c-c33001df8b16\" style=\"height: 525px; width: 100%;\" class=\"plotly-graph-div\"></div><script type=\"text/javascript\">require([\"plotly\"], function(Plotly) { window.PLOTLYENV=window.PLOTLYENV || {};window.PLOTLYENV.BASE_URL=\"https://plot.ly\";\n",
       "if (document.getElementById(\"7a89d58e-192b-48cf-b95c-c33001df8b16\")) {\n",
       "    Plotly.newPlot(\"7a89d58e-192b-48cf-b95c-c33001df8b16\", [{\"name\": \"Employers with Agent\", \"x\": [\"CERTIFIED\", \"CERTIFIED-WITHDRAWN\", \"WITHDRAWN\", \"DENIED\"], \"y\": [312967, 23065, 11267, 4017], \"type\": \"bar\", \"uid\": \"b1135323-7c40-42aa-a375-45dc1d42cb48\"}, {\"name\": \"Employers without Agent\", \"x\": [\"CERTIFIED\", \"CERTIFIED-WITHDRAWN\", \"WITHDRAWN\", \"DENIED\"], \"y\": [148221, 20329, 5278, 2911], \"type\": \"bar\", \"uid\": \"a34acb41-b54a-4c6f-bbc1-481e8cebbc1e\"}], {\"title\": {\"text\": \"NUMBER OF APPLICATIONS WITH/WITHOUT <b>AGENT</b> BY CASE STATUS \"}, \"yaxis\": {\"title\": {\"text\": \"Number of applications\"}}}, {\"showLink\": false, \"linkText\": \"Export to plot.ly\", \"plotlyServerURL\": \"https://plot.ly\"}); \n",
       "}\n",
       "});</script><script type=\"text/javascript\">window.addEventListener(\"resize\", function(){if (document.getElementById(\"7a89d58e-192b-48cf-b95c-c33001df8b16\")) {window._Plotly.Plots.resize(document.getElementById(\"7a89d58e-192b-48cf-b95c-c33001df8b16\"));};})</script>"
      ]
     },
     "metadata": {},
     "output_type": "display_data"
    }
   ],
   "source": [
    "dftop0 = df[df.AGENT_REPRESENTING_EMPLOYER=='Y'].groupby('CASE_STATUS',as_index=False).count().sort_values('countvar',ascending= False)[['CASE_STATUS','countvar']]\n",
    "dftop1 = df[df.AGENT_REPRESENTING_EMPLOYER=='N'].groupby('CASE_STATUS',as_index=False).count().sort_values('countvar',ascending= False)[['CASE_STATUS','countvar']]\n",
    "t0 = go.Bar(x=dftop0.CASE_STATUS.values,y=dftop0.countvar.values,name='Employers with Agent')\n",
    "t1 = go.Bar(x=dftop1.CASE_STATUS.values,y=dftop1.countvar.values,name='Employers without Agent')\n",
    "layout = go.Layout(dict(title= \"NUMBER OF APPLICATIONS WITH/WITHOUT <b>AGENT</b> BY CASE STATUS \",yaxis=dict(title=\"Number of applications\")))\n",
    "data = [t0,t1]\n",
    "fig =go.Figure(data,layout)\n",
    "ny = iplot(fig)"
   ]
  },
  {
   "cell_type": "code",
   "execution_count": 76,
   "metadata": {},
   "outputs": [
    {
     "data": {
      "text/plain": [
       "INFOSYS LIMITED                                    20638\n",
       "TATA CONSULTANCY SERVICES LIMITED                  13526\n",
       "CAPGEMINI AMERICA INC                               9604\n",
       "IBM INDIA PRIVATE LIMITED                           8734\n",
       "TECH MAHINDRA (AMERICAS),INC.                       7541\n",
       "DELOITTE CONSULTING LLP                             7179\n",
       "ACCENTURE LLP                                       6690\n",
       "ERNST & YOUNG U.S. LLP                              6096\n",
       "WIPRO LIMITED                                       5177\n",
       "GOOGLE INC.                                         5074\n",
       "MICROSOFT CORPORATION                               5005\n",
       "HCL AMERICA, INC.                                   4262\n",
       "SYNTEL CONSULTING INC.                              4187\n",
       "AMAZON CORPORATE LLC                                4165\n",
       "COGNIZANT TECHNOLOGY SOLUTIONS U.S. CORPORATION     2707\n",
       "IBM CORPORATION                                     2546\n",
       "LARSEN & TOUBRO INFOTECH LIMITED                    1921\n",
       "L&T TECHNOLOGY SERVICES LIMITED                     1842\n",
       "JPMORGAN CHASE & CO.                                1822\n",
       "PEOPLE TECH GROUP INC.                              1766\n",
       "FACEBOOK, INC.                                      1736\n",
       "APPLE INC.                                          1710\n",
       "PRICEWATERHOUSECOOPERS ADVISORY SERVICES LLC        1688\n",
       "INTEL CORPORATION                                   1543\n",
       "DELOITTE & TOUCHE LLP                               1538\n",
       "SYNTEL INC                                          1403\n",
       "PRICEWATERHOUSECOOPERS LLP                          1300\n",
       "HEXAWARE TECHNOLOGIES, INC.                         1258\n",
       "KPMG LLP                                            1219\n",
       "UST GLOBAL INC.                                     1197\n",
       "                                                   ...  \n",
       "JUSTIN VINEYARDS & WINERY LLC                          1\n",
       "CORBUS, LLC                                            1\n",
       "SPELLMAN HIGH VOLTAGE ELECTRONICS CORPORATION          1\n",
       "GYRUS ACMI, INC.                                       1\n",
       "SEBASTIEN GREY CLOTHIERS LLC                           1\n",
       "BEST PHARMACY & SURGICAL INC.                          1\n",
       "MAHAN RYKIEL ASSOCIATES, INC.                          1\n",
       "NEW YORK COMMON PANTRY, INC.                           1\n",
       "RICE DAIRY LLC                                         1\n",
       "SUPERVALU, INC.                                        1\n",
       "ATWOOD MEDICAL ASSOCIATES, LTD.                        1\n",
       "CREDORAX (USA) INC.                                    1\n",
       "GRIFFINEST ASIA SECURITIES, LLC.                       1\n",
       "CALVERT SOCIAL INVESTMENT FOUNDATION, INC.             1\n",
       "ANALYTIC FOCUS, LLC.                                   1\n",
       "ELYNX TECHNOLOGIES, LLC.                               1\n",
       "AG US GROUP SERVICES INC                               1\n",
       "GREDE II LLC                                           1\n",
       "OPTEC DISPLAYS INC.                                    1\n",
       "BEYOND INTERNATIONAL CORPORATION LIMITED               1\n",
       "NETWORK CAPITAL FUNDING CORPORATION                    1\n",
       "ADVANCE ACADEMY                                        1\n",
       "PATTERSON POWER ENGINEERS, LLC                         1\n",
       "MASS EQUITIES, INC.                                    1\n",
       "FLEX CONSULTING GROUP INC.                             1\n",
       "VAPOGENIX, INC.                                        1\n",
       "KONVAX CORP.                                           1\n",
       "COMPASS HEALTH CENTER, LLC                             1\n",
       "KANSYS, INC.                                           1\n",
       "SHERMCO INDUSTRIES, INC.                               1\n",
       "Name: EMPLOYER_NAME, Length: 71146, dtype: int64"
      ]
     },
     "execution_count": 76,
     "metadata": {},
     "output_type": "execute_result"
    }
   ],
   "source": [
    "df['EMPLOYER_NAME'].value_counts()"
   ]
  },
  {
   "cell_type": "code",
   "execution_count": 84,
   "metadata": {},
   "outputs": [
    {
     "data": {
      "application/vnd.plotly.v1+json": {
       "config": {
        "linkText": "Export to plot.ly",
        "plotlyServerURL": "https://plot.ly",
        "showLink": false
       },
       "data": [
        {
         "name": "CERTIFIED",
         "type": "bar",
         "uid": "e92bc47a-e4c4-4f87-898b-b055964c2005",
         "x": [
          "INFOSYS LIMITED",
          "TATA CONSULTANCY SERVICES LIMITED",
          "CAPGEMINI AMERICA INC",
          "TECH MAHINDRA (AMERICAS),INC.",
          "IBM INDIA PRIVATE LIMITED",
          "DELOITTE CONSULTING LLP",
          "ACCENTURE LLP",
          "ERNST & YOUNG U.S. LLP",
          "WIPRO LIMITED",
          "MICROSOFT CORPORATION",
          "HCL AMERICA, INC.",
          "AMAZON CORPORATE LLC",
          "SYNTEL CONSULTING INC.",
          "GOOGLE INC.",
          "COGNIZANT TECHNOLOGY SOLUTIONS U.S. CORPORATION",
          "LARSEN & TOUBRO INFOTECH LIMITED",
          "PRICEWATERHOUSECOOPERS ADVISORY SERVICES LLC",
          "L&T TECHNOLOGY SERVICES LIMITED",
          "JPMORGAN CHASE & CO.",
          "IBM CORPORATION",
          "FACEBOOK, INC.",
          "INTEL CORPORATION",
          "APPLE INC.",
          "DELOITTE & TOUCHE LLP",
          "PEOPLE TECH GROUP INC.",
          "SYNTEL INC",
          "PRICEWATERHOUSECOOPERS LLP",
          "HEXAWARE TECHNOLOGIES, INC.",
          "UST GLOBAL INC.",
          "KPMG LLP"
         ],
         "y": [
          20597,
          13429,
          8870,
          7514,
          7273,
          6976,
          6631,
          6001,
          4548,
          4444,
          4237,
          3974,
          3967,
          3435,
          2364,
          1814,
          1660,
          1656,
          1624,
          1616,
          1565,
          1526,
          1523,
          1514,
          1374,
          1318,
          1269,
          1219,
          1164,
          906
         ]
        },
        {
         "name": "CERTIFIED-WITHDRAWN",
         "type": "bar",
         "uid": "69fba620-2e88-46ce-93c4-21f0ce727caf",
         "x": [
          "GOOGLE INC.",
          "CAPGEMINI AMERICA INC",
          "WIPRO LIMITED",
          "MICROSOFT CORPORATION",
          "IBM INDIA PRIVATE LIMITED",
          "PEOPLE TECH GROUP INC.",
          "COGNIZANT TECHNOLOGY SOLUTIONS U.S. CORPORATION",
          "KPMG LLP",
          "IBM CORPORATION",
          "SYNTEL CONSULTING INC.",
          "FACEBOOK, INC.",
          "APPLE INC.",
          "JPMORGAN CHASE & CO.",
          "SYNTEL INC",
          "L&T TECHNOLOGY SERVICES LIMITED",
          "INFOSYS LIMITED",
          "TATA CONSULTANCY SERVICES LIMITED",
          "ACCENTURE LLP",
          "TECH MAHINDRA (AMERICAS),INC.",
          "PRICEWATERHOUSECOOPERS ADVISORY SERVICES LLC",
          "HEXAWARE TECHNOLOGIES, INC.",
          "AMAZON CORPORATE LLC",
          "INTEL CORPORATION",
          "UST GLOBAL INC.",
          "HCL AMERICA, INC.",
          "LARSEN & TOUBRO INFOTECH LIMITED",
          "PRICEWATERHOUSECOOPERS LLP",
          "DELOITTE CONSULTING LLP"
         ],
         "y": [
          1409,
          571,
          532,
          497,
          365,
          278,
          271,
          246,
          222,
          182,
          156,
          155,
          141,
          60,
          42,
          22,
          18,
          18,
          14,
          13,
          12,
          11,
          8,
          8,
          7,
          6,
          5,
          1
         ]
        },
        {
         "name": "DENIED",
         "type": "bar",
         "uid": "28d3c3cd-a5e3-4d79-851a-599038b99dfe",
         "x": [
          "DELOITTE CONSULTING LLP",
          "ERNST & YOUNG U.S. LLP",
          "GOOGLE INC.",
          "IBM CORPORATION",
          "IBM INDIA PRIVATE LIMITED",
          "MICROSOFT CORPORATION",
          "CAPGEMINI AMERICA INC",
          "AMAZON CORPORATE LLC",
          "TATA CONSULTANCY SERVICES LIMITED",
          "WIPRO LIMITED",
          "PRICEWATERHOUSECOOPERS LLP",
          "KPMG LLP",
          "APPLE INC.",
          "DELOITTE & TOUCHE LLP",
          "TECH MAHINDRA (AMERICAS),INC.",
          "ACCENTURE LLP",
          "JPMORGAN CHASE & CO.",
          "HCL AMERICA, INC.",
          "UST GLOBAL INC.",
          "LARSEN & TOUBRO INFOTECH LIMITED",
          "INFOSYS LIMITED",
          "L&T TECHNOLOGY SERVICES LIMITED",
          "HEXAWARE TECHNOLOGIES, INC.",
          "PRICEWATERHOUSECOOPERS ADVISORY SERVICES LLC",
          "INTEL CORPORATION",
          "COGNIZANT TECHNOLOGY SOLUTIONS U.S. CORPORATION",
          "SYNTEL CONSULTING INC.",
          "FACEBOOK, INC.",
          "PEOPLE TECH GROUP INC.",
          "SYNTEL INC"
         ],
         "y": [
          146,
          90,
          50,
          39,
          39,
          38,
          34,
          30,
          26,
          22,
          19,
          18,
          17,
          17,
          9,
          9,
          8,
          8,
          8,
          7,
          6,
          5,
          5,
          5,
          5,
          3,
          2,
          2,
          1,
          1
         ]
        },
        {
         "name": "WITHDRAWN",
         "type": "bar",
         "uid": "d3fff34f-3a02-4ae8-bafd-1a3fca909d44",
         "x": [
          "IBM INDIA PRIVATE LIMITED",
          "IBM CORPORATION",
          "GOOGLE INC.",
          "AMAZON CORPORATE LLC",
          "L&T TECHNOLOGY SERVICES LIMITED",
          "CAPGEMINI AMERICA INC",
          "PEOPLE TECH GROUP INC.",
          "LARSEN & TOUBRO INFOTECH LIMITED",
          "WIPRO LIMITED",
          "COGNIZANT TECHNOLOGY SOLUTIONS U.S. CORPORATION",
          "DELOITTE CONSULTING LLP",
          "TATA CONSULTANCY SERVICES LIMITED",
          "KPMG LLP",
          "JPMORGAN CHASE & CO.",
          "SYNTEL CONSULTING INC.",
          "ACCENTURE LLP",
          "MICROSOFT CORPORATION",
          "SYNTEL INC",
          "HEXAWARE TECHNOLOGIES, INC.",
          "UST GLOBAL INC.",
          "APPLE INC.",
          "INFOSYS LIMITED",
          "FACEBOOK, INC.",
          "HCL AMERICA, INC.",
          "PRICEWATERHOUSECOOPERS ADVISORY SERVICES LLC",
          "PRICEWATERHOUSECOOPERS LLP",
          "DELOITTE & TOUCHE LLP",
          "ERNST & YOUNG U.S. LLP",
          "TECH MAHINDRA (AMERICAS),INC.",
          "INTEL CORPORATION"
         ],
         "y": [
          1057,
          669,
          180,
          150,
          139,
          129,
          113,
          94,
          75,
          69,
          56,
          53,
          49,
          49,
          36,
          32,
          26,
          24,
          22,
          17,
          15,
          13,
          13,
          10,
          10,
          7,
          7,
          5,
          4,
          4
         ]
        }
       ],
       "layout": {
        "barmode": "stack",
        "title": {
         "text": "CASE STATUS OF TOP EMPLOYERS SPONSORING H1B APPLICATIONS"
        },
        "yaxis": {
         "title": {
          "text": "Number of applications"
         }
        }
       }
      },
      "text/html": [
       "<div id=\"008b6ea0-4c1d-4ba8-af22-b4319d462713\" style=\"height: 525px; width: 100%;\" class=\"plotly-graph-div\"></div><script type=\"text/javascript\">require([\"plotly\"], function(Plotly) { window.PLOTLYENV=window.PLOTLYENV || {};window.PLOTLYENV.BASE_URL=\"https://plot.ly\";\n",
       "if (document.getElementById(\"008b6ea0-4c1d-4ba8-af22-b4319d462713\")) {\n",
       "    Plotly.newPlot(\"008b6ea0-4c1d-4ba8-af22-b4319d462713\", [{\"name\": \"CERTIFIED\", \"x\": [\"INFOSYS LIMITED\", \"TATA CONSULTANCY SERVICES LIMITED\", \"CAPGEMINI AMERICA INC\", \"TECH MAHINDRA (AMERICAS),INC.\", \"IBM INDIA PRIVATE LIMITED\", \"DELOITTE CONSULTING LLP\", \"ACCENTURE LLP\", \"ERNST & YOUNG U.S. LLP\", \"WIPRO LIMITED\", \"MICROSOFT CORPORATION\", \"HCL AMERICA, INC.\", \"AMAZON CORPORATE LLC\", \"SYNTEL CONSULTING INC.\", \"GOOGLE INC.\", \"COGNIZANT TECHNOLOGY SOLUTIONS U.S. CORPORATION\", \"LARSEN & TOUBRO INFOTECH LIMITED\", \"PRICEWATERHOUSECOOPERS ADVISORY SERVICES LLC\", \"L&T TECHNOLOGY SERVICES LIMITED\", \"JPMORGAN CHASE & CO.\", \"IBM CORPORATION\", \"FACEBOOK, INC.\", \"INTEL CORPORATION\", \"APPLE INC.\", \"DELOITTE & TOUCHE LLP\", \"PEOPLE TECH GROUP INC.\", \"SYNTEL INC\", \"PRICEWATERHOUSECOOPERS LLP\", \"HEXAWARE TECHNOLOGIES, INC.\", \"UST GLOBAL INC.\", \"KPMG LLP\"], \"y\": [20597, 13429, 8870, 7514, 7273, 6976, 6631, 6001, 4548, 4444, 4237, 3974, 3967, 3435, 2364, 1814, 1660, 1656, 1624, 1616, 1565, 1526, 1523, 1514, 1374, 1318, 1269, 1219, 1164, 906], \"type\": \"bar\", \"uid\": \"e92bc47a-e4c4-4f87-898b-b055964c2005\"}, {\"name\": \"CERTIFIED-WITHDRAWN\", \"x\": [\"GOOGLE INC.\", \"CAPGEMINI AMERICA INC\", \"WIPRO LIMITED\", \"MICROSOFT CORPORATION\", \"IBM INDIA PRIVATE LIMITED\", \"PEOPLE TECH GROUP INC.\", \"COGNIZANT TECHNOLOGY SOLUTIONS U.S. CORPORATION\", \"KPMG LLP\", \"IBM CORPORATION\", \"SYNTEL CONSULTING INC.\", \"FACEBOOK, INC.\", \"APPLE INC.\", \"JPMORGAN CHASE & CO.\", \"SYNTEL INC\", \"L&T TECHNOLOGY SERVICES LIMITED\", \"INFOSYS LIMITED\", \"TATA CONSULTANCY SERVICES LIMITED\", \"ACCENTURE LLP\", \"TECH MAHINDRA (AMERICAS),INC.\", \"PRICEWATERHOUSECOOPERS ADVISORY SERVICES LLC\", \"HEXAWARE TECHNOLOGIES, INC.\", \"AMAZON CORPORATE LLC\", \"INTEL CORPORATION\", \"UST GLOBAL INC.\", \"HCL AMERICA, INC.\", \"LARSEN & TOUBRO INFOTECH LIMITED\", \"PRICEWATERHOUSECOOPERS LLP\", \"DELOITTE CONSULTING LLP\"], \"y\": [1409, 571, 532, 497, 365, 278, 271, 246, 222, 182, 156, 155, 141, 60, 42, 22, 18, 18, 14, 13, 12, 11, 8, 8, 7, 6, 5, 1], \"type\": \"bar\", \"uid\": \"69fba620-2e88-46ce-93c4-21f0ce727caf\"}, {\"name\": \"DENIED\", \"x\": [\"DELOITTE CONSULTING LLP\", \"ERNST & YOUNG U.S. LLP\", \"GOOGLE INC.\", \"IBM CORPORATION\", \"IBM INDIA PRIVATE LIMITED\", \"MICROSOFT CORPORATION\", \"CAPGEMINI AMERICA INC\", \"AMAZON CORPORATE LLC\", \"TATA CONSULTANCY SERVICES LIMITED\", \"WIPRO LIMITED\", \"PRICEWATERHOUSECOOPERS LLP\", \"KPMG LLP\", \"APPLE INC.\", \"DELOITTE & TOUCHE LLP\", \"TECH MAHINDRA (AMERICAS),INC.\", \"ACCENTURE LLP\", \"JPMORGAN CHASE & CO.\", \"HCL AMERICA, INC.\", \"UST GLOBAL INC.\", \"LARSEN & TOUBRO INFOTECH LIMITED\", \"INFOSYS LIMITED\", \"L&T TECHNOLOGY SERVICES LIMITED\", \"HEXAWARE TECHNOLOGIES, INC.\", \"PRICEWATERHOUSECOOPERS ADVISORY SERVICES LLC\", \"INTEL CORPORATION\", \"COGNIZANT TECHNOLOGY SOLUTIONS U.S. CORPORATION\", \"SYNTEL CONSULTING INC.\", \"FACEBOOK, INC.\", \"PEOPLE TECH GROUP INC.\", \"SYNTEL INC\"], \"y\": [146, 90, 50, 39, 39, 38, 34, 30, 26, 22, 19, 18, 17, 17, 9, 9, 8, 8, 8, 7, 6, 5, 5, 5, 5, 3, 2, 2, 1, 1], \"type\": \"bar\", \"uid\": \"28d3c3cd-a5e3-4d79-851a-599038b99dfe\"}, {\"name\": \"WITHDRAWN\", \"x\": [\"IBM INDIA PRIVATE LIMITED\", \"IBM CORPORATION\", \"GOOGLE INC.\", \"AMAZON CORPORATE LLC\", \"L&T TECHNOLOGY SERVICES LIMITED\", \"CAPGEMINI AMERICA INC\", \"PEOPLE TECH GROUP INC.\", \"LARSEN & TOUBRO INFOTECH LIMITED\", \"WIPRO LIMITED\", \"COGNIZANT TECHNOLOGY SOLUTIONS U.S. CORPORATION\", \"DELOITTE CONSULTING LLP\", \"TATA CONSULTANCY SERVICES LIMITED\", \"KPMG LLP\", \"JPMORGAN CHASE & CO.\", \"SYNTEL CONSULTING INC.\", \"ACCENTURE LLP\", \"MICROSOFT CORPORATION\", \"SYNTEL INC\", \"HEXAWARE TECHNOLOGIES, INC.\", \"UST GLOBAL INC.\", \"APPLE INC.\", \"INFOSYS LIMITED\", \"FACEBOOK, INC.\", \"HCL AMERICA, INC.\", \"PRICEWATERHOUSECOOPERS ADVISORY SERVICES LLC\", \"PRICEWATERHOUSECOOPERS LLP\", \"DELOITTE & TOUCHE LLP\", \"ERNST & YOUNG U.S. LLP\", \"TECH MAHINDRA (AMERICAS),INC.\", \"INTEL CORPORATION\"], \"y\": [1057, 669, 180, 150, 139, 129, 113, 94, 75, 69, 56, 53, 49, 49, 36, 32, 26, 24, 22, 17, 15, 13, 13, 10, 10, 7, 7, 5, 4, 4], \"type\": \"bar\", \"uid\": \"d3fff34f-3a02-4ae8-bafd-1a3fca909d44\"}], {\"barmode\": \"stack\", \"title\": {\"text\": \"CASE STATUS OF TOP EMPLOYERS SPONSORING H1B APPLICATIONS\"}, \"yaxis\": {\"title\": {\"text\": \"Number of applications\"}}}, {\"showLink\": false, \"linkText\": \"Export to plot.ly\", \"plotlyServerURL\": \"https://plot.ly\"}); \n",
       "}\n",
       "});</script><script type=\"text/javascript\">window.addEventListener(\"resize\", function(){if (document.getElementById(\"008b6ea0-4c1d-4ba8-af22-b4319d462713\")) {window._Plotly.Plots.resize(document.getElementById(\"008b6ea0-4c1d-4ba8-af22-b4319d462713\"));};})</script>"
      ],
      "text/vnd.plotly.v1+html": [
       "<div id=\"008b6ea0-4c1d-4ba8-af22-b4319d462713\" style=\"height: 525px; width: 100%;\" class=\"plotly-graph-div\"></div><script type=\"text/javascript\">require([\"plotly\"], function(Plotly) { window.PLOTLYENV=window.PLOTLYENV || {};window.PLOTLYENV.BASE_URL=\"https://plot.ly\";\n",
       "if (document.getElementById(\"008b6ea0-4c1d-4ba8-af22-b4319d462713\")) {\n",
       "    Plotly.newPlot(\"008b6ea0-4c1d-4ba8-af22-b4319d462713\", [{\"name\": \"CERTIFIED\", \"x\": [\"INFOSYS LIMITED\", \"TATA CONSULTANCY SERVICES LIMITED\", \"CAPGEMINI AMERICA INC\", \"TECH MAHINDRA (AMERICAS),INC.\", \"IBM INDIA PRIVATE LIMITED\", \"DELOITTE CONSULTING LLP\", \"ACCENTURE LLP\", \"ERNST & YOUNG U.S. LLP\", \"WIPRO LIMITED\", \"MICROSOFT CORPORATION\", \"HCL AMERICA, INC.\", \"AMAZON CORPORATE LLC\", \"SYNTEL CONSULTING INC.\", \"GOOGLE INC.\", \"COGNIZANT TECHNOLOGY SOLUTIONS U.S. CORPORATION\", \"LARSEN & TOUBRO INFOTECH LIMITED\", \"PRICEWATERHOUSECOOPERS ADVISORY SERVICES LLC\", \"L&T TECHNOLOGY SERVICES LIMITED\", \"JPMORGAN CHASE & CO.\", \"IBM CORPORATION\", \"FACEBOOK, INC.\", \"INTEL CORPORATION\", \"APPLE INC.\", \"DELOITTE & TOUCHE LLP\", \"PEOPLE TECH GROUP INC.\", \"SYNTEL INC\", \"PRICEWATERHOUSECOOPERS LLP\", \"HEXAWARE TECHNOLOGIES, INC.\", \"UST GLOBAL INC.\", \"KPMG LLP\"], \"y\": [20597, 13429, 8870, 7514, 7273, 6976, 6631, 6001, 4548, 4444, 4237, 3974, 3967, 3435, 2364, 1814, 1660, 1656, 1624, 1616, 1565, 1526, 1523, 1514, 1374, 1318, 1269, 1219, 1164, 906], \"type\": \"bar\", \"uid\": \"e92bc47a-e4c4-4f87-898b-b055964c2005\"}, {\"name\": \"CERTIFIED-WITHDRAWN\", \"x\": [\"GOOGLE INC.\", \"CAPGEMINI AMERICA INC\", \"WIPRO LIMITED\", \"MICROSOFT CORPORATION\", \"IBM INDIA PRIVATE LIMITED\", \"PEOPLE TECH GROUP INC.\", \"COGNIZANT TECHNOLOGY SOLUTIONS U.S. CORPORATION\", \"KPMG LLP\", \"IBM CORPORATION\", \"SYNTEL CONSULTING INC.\", \"FACEBOOK, INC.\", \"APPLE INC.\", \"JPMORGAN CHASE & CO.\", \"SYNTEL INC\", \"L&T TECHNOLOGY SERVICES LIMITED\", \"INFOSYS LIMITED\", \"TATA CONSULTANCY SERVICES LIMITED\", \"ACCENTURE LLP\", \"TECH MAHINDRA (AMERICAS),INC.\", \"PRICEWATERHOUSECOOPERS ADVISORY SERVICES LLC\", \"HEXAWARE TECHNOLOGIES, INC.\", \"AMAZON CORPORATE LLC\", \"INTEL CORPORATION\", \"UST GLOBAL INC.\", \"HCL AMERICA, INC.\", \"LARSEN & TOUBRO INFOTECH LIMITED\", \"PRICEWATERHOUSECOOPERS LLP\", \"DELOITTE CONSULTING LLP\"], \"y\": [1409, 571, 532, 497, 365, 278, 271, 246, 222, 182, 156, 155, 141, 60, 42, 22, 18, 18, 14, 13, 12, 11, 8, 8, 7, 6, 5, 1], \"type\": \"bar\", \"uid\": \"69fba620-2e88-46ce-93c4-21f0ce727caf\"}, {\"name\": \"DENIED\", \"x\": [\"DELOITTE CONSULTING LLP\", \"ERNST & YOUNG U.S. LLP\", \"GOOGLE INC.\", \"IBM CORPORATION\", \"IBM INDIA PRIVATE LIMITED\", \"MICROSOFT CORPORATION\", \"CAPGEMINI AMERICA INC\", \"AMAZON CORPORATE LLC\", \"TATA CONSULTANCY SERVICES LIMITED\", \"WIPRO LIMITED\", \"PRICEWATERHOUSECOOPERS LLP\", \"KPMG LLP\", \"APPLE INC.\", \"DELOITTE & TOUCHE LLP\", \"TECH MAHINDRA (AMERICAS),INC.\", \"ACCENTURE LLP\", \"JPMORGAN CHASE & CO.\", \"HCL AMERICA, INC.\", \"UST GLOBAL INC.\", \"LARSEN & TOUBRO INFOTECH LIMITED\", \"INFOSYS LIMITED\", \"L&T TECHNOLOGY SERVICES LIMITED\", \"HEXAWARE TECHNOLOGIES, INC.\", \"PRICEWATERHOUSECOOPERS ADVISORY SERVICES LLC\", \"INTEL CORPORATION\", \"COGNIZANT TECHNOLOGY SOLUTIONS U.S. CORPORATION\", \"SYNTEL CONSULTING INC.\", \"FACEBOOK, INC.\", \"PEOPLE TECH GROUP INC.\", \"SYNTEL INC\"], \"y\": [146, 90, 50, 39, 39, 38, 34, 30, 26, 22, 19, 18, 17, 17, 9, 9, 8, 8, 8, 7, 6, 5, 5, 5, 5, 3, 2, 2, 1, 1], \"type\": \"bar\", \"uid\": \"28d3c3cd-a5e3-4d79-851a-599038b99dfe\"}, {\"name\": \"WITHDRAWN\", \"x\": [\"IBM INDIA PRIVATE LIMITED\", \"IBM CORPORATION\", \"GOOGLE INC.\", \"AMAZON CORPORATE LLC\", \"L&T TECHNOLOGY SERVICES LIMITED\", \"CAPGEMINI AMERICA INC\", \"PEOPLE TECH GROUP INC.\", \"LARSEN & TOUBRO INFOTECH LIMITED\", \"WIPRO LIMITED\", \"COGNIZANT TECHNOLOGY SOLUTIONS U.S. CORPORATION\", \"DELOITTE CONSULTING LLP\", \"TATA CONSULTANCY SERVICES LIMITED\", \"KPMG LLP\", \"JPMORGAN CHASE & CO.\", \"SYNTEL CONSULTING INC.\", \"ACCENTURE LLP\", \"MICROSOFT CORPORATION\", \"SYNTEL INC\", \"HEXAWARE TECHNOLOGIES, INC.\", \"UST GLOBAL INC.\", \"APPLE INC.\", \"INFOSYS LIMITED\", \"FACEBOOK, INC.\", \"HCL AMERICA, INC.\", \"PRICEWATERHOUSECOOPERS ADVISORY SERVICES LLC\", \"PRICEWATERHOUSECOOPERS LLP\", \"DELOITTE & TOUCHE LLP\", \"ERNST & YOUNG U.S. LLP\", \"TECH MAHINDRA (AMERICAS),INC.\", \"INTEL CORPORATION\"], \"y\": [1057, 669, 180, 150, 139, 129, 113, 94, 75, 69, 56, 53, 49, 49, 36, 32, 26, 24, 22, 17, 15, 13, 13, 10, 10, 7, 7, 5, 4, 4], \"type\": \"bar\", \"uid\": \"d3fff34f-3a02-4ae8-bafd-1a3fca909d44\"}], {\"barmode\": \"stack\", \"title\": {\"text\": \"CASE STATUS OF TOP EMPLOYERS SPONSORING H1B APPLICATIONS\"}, \"yaxis\": {\"title\": {\"text\": \"Number of applications\"}}}, {\"showLink\": false, \"linkText\": \"Export to plot.ly\", \"plotlyServerURL\": \"https://plot.ly\"}); \n",
       "}\n",
       "});</script><script type=\"text/javascript\">window.addEventListener(\"resize\", function(){if (document.getElementById(\"008b6ea0-4c1d-4ba8-af22-b4319d462713\")) {window._Plotly.Plots.resize(document.getElementById(\"008b6ea0-4c1d-4ba8-af22-b4319d462713\"));};})</script>"
      ]
     },
     "metadata": {},
     "output_type": "display_data"
    }
   ],
   "source": [
    "dftop = df.groupby('EMPLOYER_NAME',as_index=False).count()\n",
    "dftop = dftop.sort_values('countvar',ascending= False)[['EMPLOYER_NAME','countvar']][0:30]\n",
    "dftop1 = df.groupby(['EMPLOYER_NAME','CASE_STATUS'],as_index=False).count()\n",
    "dftop1=dftop1[dftop1.EMPLOYER_NAME.isin(dftop.EMPLOYER_NAME)]\n",
    "t1 = go.Bar(x=dftop1[dftop1.CASE_STATUS == 'CERTIFIED'].sort_values('countvar',ascending= False)['EMPLOYER_NAME'].values,y=dftop1[dftop1.CASE_STATUS == 'CERTIFIED'].sort_values('countvar',ascending= False)['countvar'].values,name='CERTIFIED')\n",
    "t2 = go.Bar(x=dftop1[dftop1.CASE_STATUS == 'CERTIFIED-WITHDRAWN'].sort_values('countvar',ascending= False)['EMPLOYER_NAME'].values,y=dftop1[dftop1.CASE_STATUS == 'CERTIFIED-WITHDRAWN'].sort_values('countvar',ascending= False)['countvar'].values,name='CERTIFIED-WITHDRAWN')\n",
    "t3 = go.Bar(x=dftop1[dftop1.CASE_STATUS == 'DENIED'].sort_values('countvar',ascending= False)['EMPLOYER_NAME'].values,y=dftop1[dftop1.CASE_STATUS == 'DENIED'].sort_values('countvar',ascending= False)['countvar'].values,name='DENIED')\n",
    "t4 = go.Bar(x=dftop1[dftop1.CASE_STATUS == 'WITHDRAWN'].sort_values('countvar',ascending= False)['EMPLOYER_NAME'].values,y=dftop1[dftop1.CASE_STATUS == 'WITHDRAWN'].sort_values('countvar',ascending= False)['countvar'].values,name='WITHDRAWN')\n",
    "\n",
    "data = [t1,t2,t3,t4]\n",
    "layout = go.Layout((dict(title= \"CASE STATUS OF TOP EMPLOYERS SPONSORING H1B APPLICATIONS\",yaxis=dict(title=\"Number of applications\"))),barmode='stack'\n",
    ")\n",
    "\n",
    "fig =go.Figure(data,layout)\n",
    "iplot(fig)"
   ]
  },
  {
   "cell_type": "code",
   "execution_count": 86,
   "metadata": {},
   "outputs": [
    {
     "data": {
      "application/vnd.plotly.v1+json": {
       "config": {
        "linkText": "Export to plot.ly",
        "plotlyServerURL": "https://plot.ly",
        "showLink": false
       },
       "data": [
        {
         "name": "jobtitle",
         "type": "bar",
         "uid": "bbd709d2-6276-4f99-a450-77362e12f4e3",
         "x": [
          "PROGRAMMER ANALYST",
          "SOFTWARE ENGINEER",
          "SOFTWARE DEVELOPER",
          "SYSTEMS ANALYST",
          "BUSINESS ANALYST",
          "COMPUTER PROGRAMMER",
          "SENIOR SOFTWARE ENGINEER",
          "COMPUTER SYSTEMS ANALYST",
          "DEVELOPER",
          "ASSISTANT PROFESSOR",
          "PROJECT MANAGER",
          "CONSULTANT",
          "DEVELOPER USER INTERFACE",
          "ASSOCIATE",
          "ANALYST",
          "SENIOR CONSULTANT",
          "DATABASE ADMINISTRATOR",
          "TECHNOLOGY LEAD - US",
          "PHYSICAL THERAPIST",
          "SENIOR SOFTWARE DEVELOPER",
          "APPLICATION DEVELOPER",
          "JAVA DEVELOPER",
          "ACCOUNTANT",
          "TECHNOLOGY LEAD - US - PRACTITIONER",
          "COMPUTER PROGRAMMER ANALYST",
          "BUSINESS SYSTEMS ANALYST",
          "NETWORK ENGINEER",
          "ADVISORY SENIOR",
          "ARCHITECT",
          "RESEARCH ASSOCIATE"
         ],
         "y": [
          47150,
          27948,
          16105,
          10798,
          7408,
          7301,
          6983,
          6555,
          5834,
          4956,
          4261,
          3816,
          3717,
          3354,
          3155,
          3111,
          3079,
          2812,
          2715,
          2600,
          2534,
          2480,
          2425,
          2238,
          2160,
          2012,
          1943,
          1935,
          1915,
          1913
         ]
        }
       ],
       "layout": {
        "title": {
         "text": "TOP JOB PROFILES FOR H-1B APPLICATIONS"
        },
        "yaxis": {
         "title": {
          "text": "Number of applications"
         }
        }
       }
      },
      "text/html": [
       "<div id=\"4269e092-1809-4231-8299-67f8e8172c05\" style=\"height: 525px; width: 100%;\" class=\"plotly-graph-div\"></div><script type=\"text/javascript\">require([\"plotly\"], function(Plotly) { window.PLOTLYENV=window.PLOTLYENV || {};window.PLOTLYENV.BASE_URL=\"https://plot.ly\";\n",
       "if (document.getElementById(\"4269e092-1809-4231-8299-67f8e8172c05\")) {\n",
       "    Plotly.newPlot(\"4269e092-1809-4231-8299-67f8e8172c05\", [{\"name\": \"jobtitle\", \"x\": [\"PROGRAMMER ANALYST\", \"SOFTWARE ENGINEER\", \"SOFTWARE DEVELOPER\", \"SYSTEMS ANALYST\", \"BUSINESS ANALYST\", \"COMPUTER PROGRAMMER\", \"SENIOR SOFTWARE ENGINEER\", \"COMPUTER SYSTEMS ANALYST\", \"DEVELOPER\", \"ASSISTANT PROFESSOR\", \"PROJECT MANAGER\", \"CONSULTANT\", \"DEVELOPER USER INTERFACE\", \"ASSOCIATE\", \"ANALYST\", \"SENIOR CONSULTANT\", \"DATABASE ADMINISTRATOR\", \"TECHNOLOGY LEAD - US\", \"PHYSICAL THERAPIST\", \"SENIOR SOFTWARE DEVELOPER\", \"APPLICATION DEVELOPER\", \"JAVA DEVELOPER\", \"ACCOUNTANT\", \"TECHNOLOGY LEAD - US - PRACTITIONER\", \"COMPUTER PROGRAMMER ANALYST\", \"BUSINESS SYSTEMS ANALYST\", \"NETWORK ENGINEER\", \"ADVISORY SENIOR\", \"ARCHITECT\", \"RESEARCH ASSOCIATE\"], \"y\": [47150, 27948, 16105, 10798, 7408, 7301, 6983, 6555, 5834, 4956, 4261, 3816, 3717, 3354, 3155, 3111, 3079, 2812, 2715, 2600, 2534, 2480, 2425, 2238, 2160, 2012, 1943, 1935, 1915, 1913], \"type\": \"bar\", \"uid\": \"bbd709d2-6276-4f99-a450-77362e12f4e3\"}], {\"title\": {\"text\": \"TOP JOB PROFILES FOR H-1B APPLICATIONS\"}, \"yaxis\": {\"title\": {\"text\": \"Number of applications\"}}}, {\"showLink\": false, \"linkText\": \"Export to plot.ly\", \"plotlyServerURL\": \"https://plot.ly\"}); \n",
       "}\n",
       "});</script><script type=\"text/javascript\">window.addEventListener(\"resize\", function(){if (document.getElementById(\"4269e092-1809-4231-8299-67f8e8172c05\")) {window._Plotly.Plots.resize(document.getElementById(\"4269e092-1809-4231-8299-67f8e8172c05\"));};})</script>"
      ],
      "text/vnd.plotly.v1+html": [
       "<div id=\"4269e092-1809-4231-8299-67f8e8172c05\" style=\"height: 525px; width: 100%;\" class=\"plotly-graph-div\"></div><script type=\"text/javascript\">require([\"plotly\"], function(Plotly) { window.PLOTLYENV=window.PLOTLYENV || {};window.PLOTLYENV.BASE_URL=\"https://plot.ly\";\n",
       "if (document.getElementById(\"4269e092-1809-4231-8299-67f8e8172c05\")) {\n",
       "    Plotly.newPlot(\"4269e092-1809-4231-8299-67f8e8172c05\", [{\"name\": \"jobtitle\", \"x\": [\"PROGRAMMER ANALYST\", \"SOFTWARE ENGINEER\", \"SOFTWARE DEVELOPER\", \"SYSTEMS ANALYST\", \"BUSINESS ANALYST\", \"COMPUTER PROGRAMMER\", \"SENIOR SOFTWARE ENGINEER\", \"COMPUTER SYSTEMS ANALYST\", \"DEVELOPER\", \"ASSISTANT PROFESSOR\", \"PROJECT MANAGER\", \"CONSULTANT\", \"DEVELOPER USER INTERFACE\", \"ASSOCIATE\", \"ANALYST\", \"SENIOR CONSULTANT\", \"DATABASE ADMINISTRATOR\", \"TECHNOLOGY LEAD - US\", \"PHYSICAL THERAPIST\", \"SENIOR SOFTWARE DEVELOPER\", \"APPLICATION DEVELOPER\", \"JAVA DEVELOPER\", \"ACCOUNTANT\", \"TECHNOLOGY LEAD - US - PRACTITIONER\", \"COMPUTER PROGRAMMER ANALYST\", \"BUSINESS SYSTEMS ANALYST\", \"NETWORK ENGINEER\", \"ADVISORY SENIOR\", \"ARCHITECT\", \"RESEARCH ASSOCIATE\"], \"y\": [47150, 27948, 16105, 10798, 7408, 7301, 6983, 6555, 5834, 4956, 4261, 3816, 3717, 3354, 3155, 3111, 3079, 2812, 2715, 2600, 2534, 2480, 2425, 2238, 2160, 2012, 1943, 1935, 1915, 1913], \"type\": \"bar\", \"uid\": \"bbd709d2-6276-4f99-a450-77362e12f4e3\"}], {\"title\": {\"text\": \"TOP JOB PROFILES FOR H-1B APPLICATIONS\"}, \"yaxis\": {\"title\": {\"text\": \"Number of applications\"}}}, {\"showLink\": false, \"linkText\": \"Export to plot.ly\", \"plotlyServerURL\": \"https://plot.ly\"}); \n",
       "}\n",
       "});</script><script type=\"text/javascript\">window.addEventListener(\"resize\", function(){if (document.getElementById(\"4269e092-1809-4231-8299-67f8e8172c05\")) {window._Plotly.Plots.resize(document.getElementById(\"4269e092-1809-4231-8299-67f8e8172c05\"));};})</script>"
      ]
     },
     "metadata": {},
     "output_type": "display_data"
    }
   ],
   "source": [
    "df['countvar'] = 1\n",
    "dftop = df.groupby('JOB_TITLE',as_index=False).count().sort_values('countvar',ascending= False)[['JOB_TITLE','countvar']][0:30]\n",
    "t1 = go.Bar(x=dftop.JOB_TITLE.values,y=dftop.countvar.values,name='jobtitle')\n",
    "layout = go.Layout(dict(title= \"TOP JOB PROFILES FOR H-1B APPLICATIONS\",yaxis=dict(title=\"Number of applications\")))\n",
    "data = [t1]\n",
    "fig =go.Figure(data,layout)\n",
    "iplot(fig)"
   ]
  },
  {
   "cell_type": "code",
   "execution_count": 92,
   "metadata": {},
   "outputs": [
    {
     "data": {
      "text/plain": [
       "Text(0.5,1,'Decision Duration v/s Number of applications ')"
      ]
     },
     "execution_count": 92,
     "metadata": {},
     "output_type": "execute_result"
    },
    {
     "data": {
      "image/png": "[encoded data removed]",
      "text/plain": [
       "<Figure size 432x288 with 1 Axes>"
      ]
     },
     "metadata": {
      "needs_background": "light"
     },
     "output_type": "display_data"
    }
   ],
   "source": [
    "df[df.DECISION_DURATION<20].DECISION_DURATION.hist()\n",
    "plt.xlabel('Decision Duration in days')\n",
    "plt.ylabel('Number of applications')\n",
    "plt.title('Decision Duration v/s Number of applications ')"
   ]
  },
  {
   "cell_type": "code",
   "execution_count": null,
   "metadata": {
    "collapsed": true
   },
   "outputs": [],
   "source": []
  }
 ],
 "metadata": {
  "kernelspec": {
   "display_name": "Python 3",
   "language": "python",
   "name": "python3"
  },
  "language_info": {
   "codemirror_mode": {
    "name": "ipython",
    "version": 3
   },
   "file_extension": ".py",
   "mimetype": "text/x-python",
   "name": "python",
   "nbconvert_exporter": "python",
   "pygments_lexer": "ipython3",
   "version": "3.6.1"
  }
 },
 "nbformat": 4,
 "nbformat_minor": 2
}
